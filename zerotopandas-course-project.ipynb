{
 "cells": [
  {
   "cell_type": "markdown",
   "metadata": {
    "id": "_H6k9Q4Ao9Tf"
   },
   "source": [
    "# Internation Men's Football Matches Analysis\n",
    "\n",
    "The dataset for this project is available at Kaggle. It contains all the international men's matches from 1872 to 2020. In this project, various statistics are going to be analysed like who has played most matches, who has played most matches in world cup, who has scored in most matches, who has scored most goals, who has conceded most goals,etc.\n",
    "\n",
    "##### Numpy, Pandas, Seaborn and Matplotlib are used to clean and refine the data, analyse and visualize the information."
   ]
  },
  {
   "cell_type": "code",
   "execution_count": 1,
   "metadata": {
    "executionInfo": {
     "elapsed": 1763,
     "status": "ok",
     "timestamp": 1602173399992,
     "user": {
      "displayName": "Shrey Limbani",
      "photoUrl": "https://lh3.googleusercontent.com/a-/AOh14GjzFTWa7-tIu5X1rz-yNPr3-xsawaN4OuOTTP8qjA=s64",
      "userId": "06653236556182914480"
     },
     "user_tz": -330
    },
    "id": "UiHHIxlzo9Th"
   },
   "outputs": [],
   "source": [
    "project_name = \"international men's football analysis\""
   ]
  },
  {
   "cell_type": "code",
   "execution_count": 2,
   "metadata": {
    "executionInfo": {
     "elapsed": 4458,
     "status": "ok",
     "timestamp": 1602173404423,
     "user": {
      "displayName": "Shrey Limbani",
      "photoUrl": "https://lh3.googleusercontent.com/a-/AOh14GjzFTWa7-tIu5X1rz-yNPr3-xsawaN4OuOTTP8qjA=s64",
      "userId": "06653236556182914480"
     },
     "user_tz": -330
    },
    "id": "L0VxzDYFo9Tn"
   },
   "outputs": [],
   "source": [
    "!pip install jovian --upgrade -q"
   ]
  },
  {
   "cell_type": "code",
   "execution_count": 3,
   "metadata": {
    "executionInfo": {
     "elapsed": 1412,
     "status": "ok",
     "timestamp": 1602173406459,
     "user": {
      "displayName": "Shrey Limbani",
      "photoUrl": "https://lh3.googleusercontent.com/a-/AOh14GjzFTWa7-tIu5X1rz-yNPr3-xsawaN4OuOTTP8qjA=s64",
      "userId": "06653236556182914480"
     },
     "user_tz": -330
    },
    "id": "C5CQT4Jdo9Tv"
   },
   "outputs": [],
   "source": [
    "import jovian"
   ]
  },
  {
   "cell_type": "code",
   "execution_count": null,
   "metadata": {
    "colab": {
     "base_uri": "https://localhost:8080/",
     "height": 120
    },
    "executionInfo": {
     "elapsed": 6474,
     "status": "ok",
     "timestamp": 1602173413705,
     "user": {
      "displayName": "Shrey Limbani",
      "photoUrl": "https://lh3.googleusercontent.com/a-/AOh14GjzFTWa7-tIu5X1rz-yNPr3-xsawaN4OuOTTP8qjA=s64",
      "userId": "06653236556182914480"
     },
     "user_tz": -330
    },
    "id": "UNmxgSmQo9T4",
    "outputId": "8d87e98e-1e0c-4b18-8d4c-3402e2efe12e"
   },
   "outputs": [
    {
     "data": {
      "application/javascript": [
       "window.require && require([\"base/js/namespace\"],function(Jupyter){Jupyter.notebook.save_checkpoint()})"
      ],
      "text/plain": [
       "<IPython.core.display.Javascript object>"
      ]
     },
     "metadata": {},
     "output_type": "display_data"
    },
    {
     "name": "stdout",
     "output_type": "stream",
     "text": [
      "[jovian] Attempting to save notebook..\u001b[0m\n"
     ]
    }
   ],
   "source": [
    "jovian.commit(project=project_name)"
   ]
  },
  {
   "cell_type": "markdown",
   "metadata": {
    "id": "PX2PTcq-o9UF"
   },
   "source": [
    "## Data Preparation and Cleaning\n",
    "\n",
    "- Format the dates in proper formatting"
   ]
  },
  {
   "cell_type": "code",
   "execution_count": 38,
   "metadata": {
    "executionInfo": {
     "elapsed": 2646,
     "status": "ok",
     "timestamp": 1602173940561,
     "user": {
      "displayName": "Shrey Limbani",
      "photoUrl": "https://lh3.googleusercontent.com/a-/AOh14GjzFTWa7-tIu5X1rz-yNPr3-xsawaN4OuOTTP8qjA=s64",
      "userId": "06653236556182914480"
     },
     "user_tz": -330
    },
    "id": "G-dFWmu6o9UH"
   },
   "outputs": [],
   "source": [
    "import numpy as np"
   ]
  },
  {
   "cell_type": "code",
   "execution_count": 39,
   "metadata": {
    "executionInfo": {
     "elapsed": 2631,
     "status": "ok",
     "timestamp": 1602173940564,
     "user": {
      "displayName": "Shrey Limbani",
      "photoUrl": "https://lh3.googleusercontent.com/a-/AOh14GjzFTWa7-tIu5X1rz-yNPr3-xsawaN4OuOTTP8qjA=s64",
      "userId": "06653236556182914480"
     },
     "user_tz": -330
    },
    "id": "2JgJmpKRo9UQ"
   },
   "outputs": [],
   "source": [
    "import pandas as pd\n",
    "import matplotlib.pyplot as plt\n",
    "import seaborn as sns"
   ]
  },
  {
   "cell_type": "code",
   "execution_count": 40,
   "metadata": {
    "executionInfo": {
     "elapsed": 3204,
     "status": "ok",
     "timestamp": 1602173941151,
     "user": {
      "displayName": "Shrey Limbani",
      "photoUrl": "https://lh3.googleusercontent.com/a-/AOh14GjzFTWa7-tIu5X1rz-yNPr3-xsawaN4OuOTTP8qjA=s64",
      "userId": "06653236556182914480"
     },
     "user_tz": -330
    },
    "id": "YGA8GJJJo9UX"
   },
   "outputs": [],
   "source": [
    "football_df = pd.read_csv('results.csv')"
   ]
  },
  {
   "cell_type": "code",
   "execution_count": 41,
   "metadata": {
    "colab": {
     "base_uri": "https://localhost:8080/",
     "height": 589
    },
    "executionInfo": {
     "elapsed": 3189,
     "status": "ok",
     "timestamp": 1602173941153,
     "user": {
      "displayName": "Shrey Limbani",
      "photoUrl": "https://lh3.googleusercontent.com/a-/AOh14GjzFTWa7-tIu5X1rz-yNPr3-xsawaN4OuOTTP8qjA=s64",
      "userId": "06653236556182914480"
     },
     "user_tz": -330
    },
    "id": "dPJsq6DEo9Ue",
    "outputId": "f9dec374-076a-4d3f-fd3d-805052d10221"
   },
   "outputs": [
    {
     "data": {
      "text/html": [
       "<div>\n",
       "<style scoped>\n",
       "    .dataframe tbody tr th:only-of-type {\n",
       "        vertical-align: middle;\n",
       "    }\n",
       "\n",
       "    .dataframe tbody tr th {\n",
       "        vertical-align: top;\n",
       "    }\n",
       "\n",
       "    .dataframe thead th {\n",
       "        text-align: right;\n",
       "    }\n",
       "</style>\n",
       "<table border=\"1\" class=\"dataframe\">\n",
       "  <thead>\n",
       "    <tr style=\"text-align: right;\">\n",
       "      <th></th>\n",
       "      <th>date</th>\n",
       "      <th>home_team</th>\n",
       "      <th>away_team</th>\n",
       "      <th>home_score</th>\n",
       "      <th>away_score</th>\n",
       "      <th>tournament</th>\n",
       "      <th>city</th>\n",
       "      <th>country</th>\n",
       "      <th>neutral</th>\n",
       "    </tr>\n",
       "  </thead>\n",
       "  <tbody>\n",
       "    <tr>\n",
       "      <th>0</th>\n",
       "      <td>1872-11-30</td>\n",
       "      <td>Scotland</td>\n",
       "      <td>England</td>\n",
       "      <td>0</td>\n",
       "      <td>0</td>\n",
       "      <td>Friendly</td>\n",
       "      <td>Glasgow</td>\n",
       "      <td>Scotland</td>\n",
       "      <td>False</td>\n",
       "    </tr>\n",
       "    <tr>\n",
       "      <th>1</th>\n",
       "      <td>1873-03-08</td>\n",
       "      <td>England</td>\n",
       "      <td>Scotland</td>\n",
       "      <td>4</td>\n",
       "      <td>2</td>\n",
       "      <td>Friendly</td>\n",
       "      <td>London</td>\n",
       "      <td>England</td>\n",
       "      <td>False</td>\n",
       "    </tr>\n",
       "    <tr>\n",
       "      <th>2</th>\n",
       "      <td>1874-03-07</td>\n",
       "      <td>Scotland</td>\n",
       "      <td>England</td>\n",
       "      <td>2</td>\n",
       "      <td>1</td>\n",
       "      <td>Friendly</td>\n",
       "      <td>Glasgow</td>\n",
       "      <td>Scotland</td>\n",
       "      <td>False</td>\n",
       "    </tr>\n",
       "    <tr>\n",
       "      <th>3</th>\n",
       "      <td>1875-03-06</td>\n",
       "      <td>England</td>\n",
       "      <td>Scotland</td>\n",
       "      <td>2</td>\n",
       "      <td>2</td>\n",
       "      <td>Friendly</td>\n",
       "      <td>London</td>\n",
       "      <td>England</td>\n",
       "      <td>False</td>\n",
       "    </tr>\n",
       "    <tr>\n",
       "      <th>4</th>\n",
       "      <td>1876-03-04</td>\n",
       "      <td>Scotland</td>\n",
       "      <td>England</td>\n",
       "      <td>3</td>\n",
       "      <td>0</td>\n",
       "      <td>Friendly</td>\n",
       "      <td>Glasgow</td>\n",
       "      <td>Scotland</td>\n",
       "      <td>False</td>\n",
       "    </tr>\n",
       "    <tr>\n",
       "      <th>...</th>\n",
       "      <td>...</td>\n",
       "      <td>...</td>\n",
       "      <td>...</td>\n",
       "      <td>...</td>\n",
       "      <td>...</td>\n",
       "      <td>...</td>\n",
       "      <td>...</td>\n",
       "      <td>...</td>\n",
       "      <td>...</td>\n",
       "    </tr>\n",
       "    <tr>\n",
       "      <th>41635</th>\n",
       "      <td>08-09-2020</td>\n",
       "      <td>Luxembourg</td>\n",
       "      <td>Montenegro</td>\n",
       "      <td>0</td>\n",
       "      <td>1</td>\n",
       "      <td>UEFA Nations League</td>\n",
       "      <td>Luxembourg City</td>\n",
       "      <td>Luxembourg</td>\n",
       "      <td>False</td>\n",
       "    </tr>\n",
       "    <tr>\n",
       "      <th>41636</th>\n",
       "      <td>08-09-2020</td>\n",
       "      <td>Cyprus</td>\n",
       "      <td>Azerbaijan</td>\n",
       "      <td>0</td>\n",
       "      <td>1</td>\n",
       "      <td>UEFA Nations League</td>\n",
       "      <td>Nicosia</td>\n",
       "      <td>Cyprus</td>\n",
       "      <td>False</td>\n",
       "    </tr>\n",
       "    <tr>\n",
       "      <th>41637</th>\n",
       "      <td>08-09-2020</td>\n",
       "      <td>Armenia</td>\n",
       "      <td>Estonia</td>\n",
       "      <td>2</td>\n",
       "      <td>0</td>\n",
       "      <td>UEFA Nations League</td>\n",
       "      <td>Yerevan</td>\n",
       "      <td>Armenia</td>\n",
       "      <td>False</td>\n",
       "    </tr>\n",
       "    <tr>\n",
       "      <th>41638</th>\n",
       "      <td>08-09-2020</td>\n",
       "      <td>Georgia</td>\n",
       "      <td>North Macedonia</td>\n",
       "      <td>1</td>\n",
       "      <td>1</td>\n",
       "      <td>UEFA Nations League</td>\n",
       "      <td>Tbilisi</td>\n",
       "      <td>Georgia</td>\n",
       "      <td>False</td>\n",
       "    </tr>\n",
       "    <tr>\n",
       "      <th>41639</th>\n",
       "      <td>08-09-2020</td>\n",
       "      <td>San Marino</td>\n",
       "      <td>Liechtenstein</td>\n",
       "      <td>0</td>\n",
       "      <td>2</td>\n",
       "      <td>UEFA Nations League</td>\n",
       "      <td>Rimini</td>\n",
       "      <td>Italy</td>\n",
       "      <td>True</td>\n",
       "    </tr>\n",
       "  </tbody>\n",
       "</table>\n",
       "<p>41640 rows × 9 columns</p>\n",
       "</div>"
      ],
      "text/plain": [
       "             date   home_team  ...     country  neutral\n",
       "0      1872-11-30    Scotland  ...    Scotland    False\n",
       "1      1873-03-08     England  ...     England    False\n",
       "2      1874-03-07    Scotland  ...    Scotland    False\n",
       "3      1875-03-06     England  ...     England    False\n",
       "4      1876-03-04    Scotland  ...    Scotland    False\n",
       "...           ...         ...  ...         ...      ...\n",
       "41635  08-09-2020  Luxembourg  ...  Luxembourg    False\n",
       "41636  08-09-2020      Cyprus  ...      Cyprus    False\n",
       "41637  08-09-2020     Armenia  ...     Armenia    False\n",
       "41638  08-09-2020     Georgia  ...     Georgia    False\n",
       "41639  08-09-2020  San Marino  ...       Italy     True\n",
       "\n",
       "[41640 rows x 9 columns]"
      ]
     },
     "execution_count": 41,
     "metadata": {
      "tags": []
     },
     "output_type": "execute_result"
    }
   ],
   "source": [
    "football_df"
   ]
  },
  {
   "cell_type": "markdown",
   "metadata": {
    "id": "8UzUZlPmqX8q"
   },
   "source": [
    "As we can see that the date formatting is different for some dates, so we need to correct the date formatting and set the date column as date so as to perform some date operations on the same."
   ]
  },
  {
   "cell_type": "code",
   "execution_count": 42,
   "metadata": {
    "executionInfo": {
     "elapsed": 3174,
     "status": "ok",
     "timestamp": 1602173941155,
     "user": {
      "displayName": "Shrey Limbani",
      "photoUrl": "https://lh3.googleusercontent.com/a-/AOh14GjzFTWa7-tIu5X1rz-yNPr3-xsawaN4OuOTTP8qjA=s64",
      "userId": "06653236556182914480"
     },
     "user_tz": -330
    },
    "id": "ocrCXuVno9Uk"
   },
   "outputs": [],
   "source": [
    "football_df.date = pd.to_datetime(football_df.date)\n",
    "football_df[\"month\"] = pd.DatetimeIndex(football_df.date).month\n",
    "football_df[\"year\"] = pd.DatetimeIndex(football_df.date).year"
   ]
  },
  {
   "cell_type": "code",
   "execution_count": 43,
   "metadata": {
    "colab": {
     "base_uri": "https://localhost:8080/",
     "height": 221
    },
    "executionInfo": {
     "elapsed": 3163,
     "status": "ok",
     "timestamp": 1602173941158,
     "user": {
      "displayName": "Shrey Limbani",
      "photoUrl": "https://lh3.googleusercontent.com/a-/AOh14GjzFTWa7-tIu5X1rz-yNPr3-xsawaN4OuOTTP8qjA=s64",
      "userId": "06653236556182914480"
     },
     "user_tz": -330
    },
    "id": "x_8COR-po9Up",
    "outputId": "c8986f9c-5421-428a-f8d7-db477136e62e"
   },
   "outputs": [
    {
     "data": {
      "text/plain": [
       "0       1872-11-30\n",
       "1       1873-03-08\n",
       "2       1874-03-07\n",
       "3       1875-03-06\n",
       "4       1876-03-04\n",
       "           ...    \n",
       "41635   2020-08-09\n",
       "41636   2020-08-09\n",
       "41637   2020-08-09\n",
       "41638   2020-08-09\n",
       "41639   2020-08-09\n",
       "Name: date, Length: 41640, dtype: datetime64[ns]"
      ]
     },
     "execution_count": 43,
     "metadata": {
      "tags": []
     },
     "output_type": "execute_result"
    }
   ],
   "source": [
    "football_df.date"
   ]
  },
  {
   "cell_type": "markdown",
   "metadata": {
    "id": "zZLLAt270R2O"
   },
   "source": [
    "Adding winning team to the dataset"
   ]
  },
  {
   "cell_type": "code",
   "execution_count": 44,
   "metadata": {
    "executionInfo": {
     "elapsed": 3153,
     "status": "ok",
     "timestamp": 1602173941160,
     "user": {
      "displayName": "Shrey Limbani",
      "photoUrl": "https://lh3.googleusercontent.com/a-/AOh14GjzFTWa7-tIu5X1rz-yNPr3-xsawaN4OuOTTP8qjA=s64",
      "userId": "06653236556182914480"
     },
     "user_tz": -330
    },
    "id": "SAWvaFwu0aKI"
   },
   "outputs": [],
   "source": [
    "conditions = [\n",
    "    (football_df['home_score']-football_df['away_score'] > 0),\n",
    "    (football_df['home_score']-football_df['away_score'] < 0),\n",
    "    (football_df['home_score']-football_df['away_score'] == 0)\n",
    "    ]\n",
    "\n",
    "values1 = [football_df['home_team'],football_df['away_team'],\"Draw\"]\n",
    "values2 = [football_df['away_team'],football_df['home_team'],\"Draw\"]\n",
    "football_df['winning_team'] = np.select(conditions,values1)\n",
    "football_df['losing_team'] = np.select(conditions,values2)"
   ]
  },
  {
   "cell_type": "code",
   "execution_count": 45,
   "metadata": {
    "colab": {
     "base_uri": "https://localhost:8080/",
     "height": 694
    },
    "executionInfo": {
     "elapsed": 3140,
     "status": "ok",
     "timestamp": 1602173941161,
     "user": {
      "displayName": "Shrey Limbani",
      "photoUrl": "https://lh3.googleusercontent.com/a-/AOh14GjzFTWa7-tIu5X1rz-yNPr3-xsawaN4OuOTTP8qjA=s64",
      "userId": "06653236556182914480"
     },
     "user_tz": -330
    },
    "id": "i0DhZu6c1orF",
    "outputId": "81581e40-168b-4cf2-c130-4550dc3f1853"
   },
   "outputs": [
    {
     "data": {
      "text/html": [
       "<div>\n",
       "<style scoped>\n",
       "    .dataframe tbody tr th:only-of-type {\n",
       "        vertical-align: middle;\n",
       "    }\n",
       "\n",
       "    .dataframe tbody tr th {\n",
       "        vertical-align: top;\n",
       "    }\n",
       "\n",
       "    .dataframe thead th {\n",
       "        text-align: right;\n",
       "    }\n",
       "</style>\n",
       "<table border=\"1\" class=\"dataframe\">\n",
       "  <thead>\n",
       "    <tr style=\"text-align: right;\">\n",
       "      <th></th>\n",
       "      <th>date</th>\n",
       "      <th>home_team</th>\n",
       "      <th>away_team</th>\n",
       "      <th>home_score</th>\n",
       "      <th>away_score</th>\n",
       "      <th>tournament</th>\n",
       "      <th>city</th>\n",
       "      <th>country</th>\n",
       "      <th>neutral</th>\n",
       "      <th>month</th>\n",
       "      <th>year</th>\n",
       "      <th>winning_team</th>\n",
       "      <th>losing_team</th>\n",
       "    </tr>\n",
       "  </thead>\n",
       "  <tbody>\n",
       "    <tr>\n",
       "      <th>0</th>\n",
       "      <td>1872-11-30</td>\n",
       "      <td>Scotland</td>\n",
       "      <td>England</td>\n",
       "      <td>0</td>\n",
       "      <td>0</td>\n",
       "      <td>Friendly</td>\n",
       "      <td>Glasgow</td>\n",
       "      <td>Scotland</td>\n",
       "      <td>False</td>\n",
       "      <td>11</td>\n",
       "      <td>1872</td>\n",
       "      <td>Draw</td>\n",
       "      <td>Draw</td>\n",
       "    </tr>\n",
       "    <tr>\n",
       "      <th>1</th>\n",
       "      <td>1873-03-08</td>\n",
       "      <td>England</td>\n",
       "      <td>Scotland</td>\n",
       "      <td>4</td>\n",
       "      <td>2</td>\n",
       "      <td>Friendly</td>\n",
       "      <td>London</td>\n",
       "      <td>England</td>\n",
       "      <td>False</td>\n",
       "      <td>3</td>\n",
       "      <td>1873</td>\n",
       "      <td>England</td>\n",
       "      <td>Scotland</td>\n",
       "    </tr>\n",
       "    <tr>\n",
       "      <th>2</th>\n",
       "      <td>1874-03-07</td>\n",
       "      <td>Scotland</td>\n",
       "      <td>England</td>\n",
       "      <td>2</td>\n",
       "      <td>1</td>\n",
       "      <td>Friendly</td>\n",
       "      <td>Glasgow</td>\n",
       "      <td>Scotland</td>\n",
       "      <td>False</td>\n",
       "      <td>3</td>\n",
       "      <td>1874</td>\n",
       "      <td>Scotland</td>\n",
       "      <td>England</td>\n",
       "    </tr>\n",
       "    <tr>\n",
       "      <th>3</th>\n",
       "      <td>1875-03-06</td>\n",
       "      <td>England</td>\n",
       "      <td>Scotland</td>\n",
       "      <td>2</td>\n",
       "      <td>2</td>\n",
       "      <td>Friendly</td>\n",
       "      <td>London</td>\n",
       "      <td>England</td>\n",
       "      <td>False</td>\n",
       "      <td>3</td>\n",
       "      <td>1875</td>\n",
       "      <td>Draw</td>\n",
       "      <td>Draw</td>\n",
       "    </tr>\n",
       "    <tr>\n",
       "      <th>4</th>\n",
       "      <td>1876-03-04</td>\n",
       "      <td>Scotland</td>\n",
       "      <td>England</td>\n",
       "      <td>3</td>\n",
       "      <td>0</td>\n",
       "      <td>Friendly</td>\n",
       "      <td>Glasgow</td>\n",
       "      <td>Scotland</td>\n",
       "      <td>False</td>\n",
       "      <td>3</td>\n",
       "      <td>1876</td>\n",
       "      <td>Scotland</td>\n",
       "      <td>England</td>\n",
       "    </tr>\n",
       "    <tr>\n",
       "      <th>...</th>\n",
       "      <td>...</td>\n",
       "      <td>...</td>\n",
       "      <td>...</td>\n",
       "      <td>...</td>\n",
       "      <td>...</td>\n",
       "      <td>...</td>\n",
       "      <td>...</td>\n",
       "      <td>...</td>\n",
       "      <td>...</td>\n",
       "      <td>...</td>\n",
       "      <td>...</td>\n",
       "      <td>...</td>\n",
       "      <td>...</td>\n",
       "    </tr>\n",
       "    <tr>\n",
       "      <th>41635</th>\n",
       "      <td>2020-08-09</td>\n",
       "      <td>Luxembourg</td>\n",
       "      <td>Montenegro</td>\n",
       "      <td>0</td>\n",
       "      <td>1</td>\n",
       "      <td>UEFA Nations League</td>\n",
       "      <td>Luxembourg City</td>\n",
       "      <td>Luxembourg</td>\n",
       "      <td>False</td>\n",
       "      <td>8</td>\n",
       "      <td>2020</td>\n",
       "      <td>Montenegro</td>\n",
       "      <td>Luxembourg</td>\n",
       "    </tr>\n",
       "    <tr>\n",
       "      <th>41636</th>\n",
       "      <td>2020-08-09</td>\n",
       "      <td>Cyprus</td>\n",
       "      <td>Azerbaijan</td>\n",
       "      <td>0</td>\n",
       "      <td>1</td>\n",
       "      <td>UEFA Nations League</td>\n",
       "      <td>Nicosia</td>\n",
       "      <td>Cyprus</td>\n",
       "      <td>False</td>\n",
       "      <td>8</td>\n",
       "      <td>2020</td>\n",
       "      <td>Azerbaijan</td>\n",
       "      <td>Cyprus</td>\n",
       "    </tr>\n",
       "    <tr>\n",
       "      <th>41637</th>\n",
       "      <td>2020-08-09</td>\n",
       "      <td>Armenia</td>\n",
       "      <td>Estonia</td>\n",
       "      <td>2</td>\n",
       "      <td>0</td>\n",
       "      <td>UEFA Nations League</td>\n",
       "      <td>Yerevan</td>\n",
       "      <td>Armenia</td>\n",
       "      <td>False</td>\n",
       "      <td>8</td>\n",
       "      <td>2020</td>\n",
       "      <td>Armenia</td>\n",
       "      <td>Estonia</td>\n",
       "    </tr>\n",
       "    <tr>\n",
       "      <th>41638</th>\n",
       "      <td>2020-08-09</td>\n",
       "      <td>Georgia</td>\n",
       "      <td>North Macedonia</td>\n",
       "      <td>1</td>\n",
       "      <td>1</td>\n",
       "      <td>UEFA Nations League</td>\n",
       "      <td>Tbilisi</td>\n",
       "      <td>Georgia</td>\n",
       "      <td>False</td>\n",
       "      <td>8</td>\n",
       "      <td>2020</td>\n",
       "      <td>Draw</td>\n",
       "      <td>Draw</td>\n",
       "    </tr>\n",
       "    <tr>\n",
       "      <th>41639</th>\n",
       "      <td>2020-08-09</td>\n",
       "      <td>San Marino</td>\n",
       "      <td>Liechtenstein</td>\n",
       "      <td>0</td>\n",
       "      <td>2</td>\n",
       "      <td>UEFA Nations League</td>\n",
       "      <td>Rimini</td>\n",
       "      <td>Italy</td>\n",
       "      <td>True</td>\n",
       "      <td>8</td>\n",
       "      <td>2020</td>\n",
       "      <td>Liechtenstein</td>\n",
       "      <td>San Marino</td>\n",
       "    </tr>\n",
       "  </tbody>\n",
       "</table>\n",
       "<p>41640 rows × 13 columns</p>\n",
       "</div>"
      ],
      "text/plain": [
       "            date   home_team        away_team  ...  year   winning_team losing_team\n",
       "0     1872-11-30    Scotland          England  ...  1872           Draw        Draw\n",
       "1     1873-03-08     England         Scotland  ...  1873        England    Scotland\n",
       "2     1874-03-07    Scotland          England  ...  1874       Scotland     England\n",
       "3     1875-03-06     England         Scotland  ...  1875           Draw        Draw\n",
       "4     1876-03-04    Scotland          England  ...  1876       Scotland     England\n",
       "...          ...         ...              ...  ...   ...            ...         ...\n",
       "41635 2020-08-09  Luxembourg       Montenegro  ...  2020     Montenegro  Luxembourg\n",
       "41636 2020-08-09      Cyprus       Azerbaijan  ...  2020     Azerbaijan      Cyprus\n",
       "41637 2020-08-09     Armenia          Estonia  ...  2020        Armenia     Estonia\n",
       "41638 2020-08-09     Georgia  North Macedonia  ...  2020           Draw        Draw\n",
       "41639 2020-08-09  San Marino    Liechtenstein  ...  2020  Liechtenstein  San Marino\n",
       "\n",
       "[41640 rows x 13 columns]"
      ]
     },
     "execution_count": 45,
     "metadata": {
      "tags": []
     },
     "output_type": "execute_result"
    }
   ],
   "source": [
    "football_df"
   ]
  },
  {
   "cell_type": "code",
   "execution_count": 46,
   "metadata": {
    "executionInfo": {
     "elapsed": 3129,
     "status": "ok",
     "timestamp": 1602173941163,
     "user": {
      "displayName": "Shrey Limbani",
      "photoUrl": "https://lh3.googleusercontent.com/a-/AOh14GjzFTWa7-tIu5X1rz-yNPr3-xsawaN4OuOTTP8qjA=s64",
      "userId": "06653236556182914480"
     },
     "user_tz": -330
    },
    "id": "rfj8pii6o9Uw"
   },
   "outputs": [],
   "source": [
    "import jovian"
   ]
  },
  {
   "cell_type": "code",
   "execution_count": 47,
   "metadata": {
    "colab": {
     "base_uri": "https://localhost:8080/",
     "height": 86
    },
    "executionInfo": {
     "elapsed": 6537,
     "status": "ok",
     "timestamp": 1602173944584,
     "user": {
      "displayName": "Shrey Limbani",
      "photoUrl": "https://lh3.googleusercontent.com/a-/AOh14GjzFTWa7-tIu5X1rz-yNPr3-xsawaN4OuOTTP8qjA=s64",
      "userId": "06653236556182914480"
     },
     "user_tz": -330
    },
    "id": "pViJ-lcdo9U2",
    "outputId": "1025bd2d-be34-4bff-9664-beb1da6893f6"
   },
   "outputs": [
    {
     "name": "stdout",
     "output_type": "stream",
     "text": [
      "[jovian] Detected Colab notebook...\u001b[0m\n",
      "[jovian] Uploading colab notebook to Jovian...\u001b[0m\n",
      "[jovian] Committed successfully! https://jovian.ml/shreylimbani/international-mens-football-analysis\u001b[0m\n"
     ]
    },
    {
     "data": {
      "application/vnd.google.colaboratory.intrinsic+json": {
       "type": "string"
      },
      "text/plain": [
       "'https://jovian.ml/shreylimbani/international-mens-football-analysis'"
      ]
     },
     "execution_count": 47,
     "metadata": {
      "tags": []
     },
     "output_type": "execute_result"
    }
   ],
   "source": [
    "jovian.commit(project= project_name)"
   ]
  },
  {
   "cell_type": "markdown",
   "metadata": {
    "id": "SdXiVHHOo9U8"
   },
   "source": [
    "## Exploratory Analysis and Visualization\n",
    "\n",
    "- Most Matches Played(Country) \n",
    "- Most Matches Won\n",
    "- Most Matches Lost \n",
    "- Most Goals Scored (Country) \n",
    "- Most Goals Conceded \n",
    "- Most Home Matches Played \n",
    "- Most Away Matches Played \n",
    "- Most Matches Played In A World Cup \n",
    "- Most Matches Won In A World Cup\n",
    "- Most Matches Lost In A World Cup \n",
    "- Most Goals Scored (World Cup)\n",
    "- Most Matches Played(Year) - with a graph\n",
    "- Most Goals Scored (Year) - with a graph\n",
    "\n"
   ]
  },
  {
   "cell_type": "code",
   "execution_count": 48,
   "metadata": {
    "colab": {
     "base_uri": "https://localhost:8080/",
     "height": 221
    },
    "executionInfo": {
     "elapsed": 2578,
     "status": "ok",
     "timestamp": 1602173953302,
     "user": {
      "displayName": "Shrey Limbani",
      "photoUrl": "https://lh3.googleusercontent.com/a-/AOh14GjzFTWa7-tIu5X1rz-yNPr3-xsawaN4OuOTTP8qjA=s64",
      "userId": "06653236556182914480"
     },
     "user_tz": -330
    },
    "id": "OpWU1Flio9U-",
    "outputId": "40b4cf1c-4b53-46a3-d6d0-0a78d990798a"
   },
   "outputs": [
    {
     "data": {
      "text/plain": [
       "Abkhazia          28.0\n",
       "Afghanistan      111.0\n",
       "Albania          334.0\n",
       "Alderney          19.0\n",
       "Algeria          505.0\n",
       "                 ...  \n",
       "Yugoslavia       480.0\n",
       "Zambia           718.0\n",
       "Zanzibar         205.0\n",
       "Zimbabwe         456.0\n",
       "Åland Islands     46.0\n",
       "Name: date, Length: 312, dtype: float64"
      ]
     },
     "execution_count": 48,
     "metadata": {
      "tags": []
     },
     "output_type": "execute_result"
    }
   ],
   "source": [
    "matches_played_country = football_df.groupby('home_team')[\"date\"].count() + football_df.groupby('away_team')[\"date\"].count()\n",
    "matches_played_country"
   ]
  },
  {
   "cell_type": "markdown",
   "metadata": {
    "id": "ETlbiS8ouB3E"
   },
   "source": []
  },
  {
   "cell_type": "code",
   "execution_count": 49,
   "metadata": {
    "colab": {
     "base_uri": "https://localhost:8080/",
     "height": 51
    },
    "executionInfo": {
     "elapsed": 2565,
     "status": "ok",
     "timestamp": 1602173953304,
     "user": {
      "displayName": "Shrey Limbani",
      "photoUrl": "https://lh3.googleusercontent.com/a-/AOh14GjzFTWa7-tIu5X1rz-yNPr3-xsawaN4OuOTTP8qjA=s64",
      "userId": "06653236556182914480"
     },
     "user_tz": -330
    },
    "id": "CsrdkAERo9VD",
    "outputId": "3023ff95-fac9-4778-84df-ef6300084d97"
   },
   "outputs": [
    {
     "data": {
      "text/plain": [
       "Sweden    1020.0\n",
       "Name: date, dtype: float64"
      ]
     },
     "execution_count": 49,
     "metadata": {
      "tags": []
     },
     "output_type": "execute_result"
    }
   ],
   "source": [
    "matches_played_country.sort_values(ascending=False).head(1)"
   ]
  },
  {
   "cell_type": "markdown",
   "metadata": {
    "id": "bQT1JrxpwNqa"
   },
   "source": [
    "As we can see that Sweden has played most number of interational matches that is 1020."
   ]
  },
  {
   "cell_type": "code",
   "execution_count": 50,
   "metadata": {
    "colab": {
     "base_uri": "https://localhost:8080/",
     "height": 238
    },
    "executionInfo": {
     "elapsed": 2553,
     "status": "ok",
     "timestamp": 1602173953306,
     "user": {
      "displayName": "Shrey Limbani",
      "photoUrl": "https://lh3.googleusercontent.com/a-/AOh14GjzFTWa7-tIu5X1rz-yNPr3-xsawaN4OuOTTP8qjA=s64",
      "userId": "06653236556182914480"
     },
     "user_tz": -330
    },
    "id": "Z18rR6DMwM5v",
    "outputId": "aafbc58b-d290-4d51-ac50-02577b68e038"
   },
   "outputs": [
    {
     "data": {
      "text/plain": [
       "home_team\n",
       "Sweden           451\n",
       "England          446\n",
       "France           433\n",
       "Hungary          422\n",
       "Germany          416\n",
       "                ... \n",
       "Palau              1\n",
       "Madrid             1\n",
       "Micronesia         1\n",
       "Cascadia           1\n",
       "Central Spain      1\n",
       "Name: date, Length: 266, dtype: int64"
      ]
     },
     "execution_count": 50,
     "metadata": {
      "tags": []
     },
     "output_type": "execute_result"
    }
   ],
   "source": [
    "home_matches_played_country = football_df[football_df.neutral == False].groupby('home_team')[\"date\"].count()\n",
    "home_matches_played_country.sort_values(ascending=False)"
   ]
  },
  {
   "cell_type": "markdown",
   "metadata": {
    "id": "T9D5V0WHxbqw"
   },
   "source": [
    "Sweden has played most matches at a home venue with 451 matches."
   ]
  },
  {
   "cell_type": "code",
   "execution_count": 51,
   "metadata": {
    "colab": {
     "base_uri": "https://localhost:8080/",
     "height": 238
    },
    "executionInfo": {
     "elapsed": 2542,
     "status": "ok",
     "timestamp": 1602173953307,
     "user": {
      "displayName": "Shrey Limbani",
      "photoUrl": "https://lh3.googleusercontent.com/a-/AOh14GjzFTWa7-tIu5X1rz-yNPr3-xsawaN4OuOTTP8qjA=s64",
      "userId": "06653236556182914480"
     },
     "user_tz": -330
    },
    "id": "wGnBhG4ro9VI",
    "outputId": "2a7bd262-a620-467c-e456-acc430a67f5f"
   },
   "outputs": [
    {
     "data": {
      "text/plain": [
       "away_team\n",
       "Sweden                462\n",
       "England               458\n",
       "Hungary               445\n",
       "Finland               391\n",
       "Germany               385\n",
       "                     ... \n",
       "Romani people           1\n",
       "Saare County            1\n",
       "Barawa                  1\n",
       "Saint Helena            1\n",
       "Parishes of Jersey      1\n",
       "Name: date, Length: 295, dtype: int64"
      ]
     },
     "execution_count": 51,
     "metadata": {
      "tags": []
     },
     "output_type": "execute_result"
    }
   ],
   "source": [
    "away_matches_played_country = football_df[football_df.neutral == False].groupby('away_team')[\"date\"].count()\n",
    "away_matches_played_country.sort_values(ascending=False)"
   ]
  },
  {
   "cell_type": "markdown",
   "metadata": {
    "id": "9JKiVLS3xy4j"
   },
   "source": [
    "Sweden has played most matches at an away venue with 462 matches."
   ]
  },
  {
   "cell_type": "markdown",
   "metadata": {
    "id": "cGfh7WWX14np"
   },
   "source": [
    "Most matches won by a team"
   ]
  },
  {
   "cell_type": "code",
   "execution_count": 52,
   "metadata": {
    "colab": {
     "base_uri": "https://localhost:8080/",
     "height": 238
    },
    "executionInfo": {
     "elapsed": 2531,
     "status": "ok",
     "timestamp": 1602173953308,
     "user": {
      "displayName": "Shrey Limbani",
      "photoUrl": "https://lh3.googleusercontent.com/a-/AOh14GjzFTWa7-tIu5X1rz-yNPr3-xsawaN4OuOTTP8qjA=s64",
      "userId": "06653236556182914480"
     },
     "user_tz": -330
    },
    "id": "-nBrenSKo9VN",
    "outputId": "9349e212-858f-4ea0-9735-d8e7b85bb1b8"
   },
   "outputs": [
    {
     "data": {
      "text/plain": [
       "winning_team\n",
       "Draw             9592\n",
       "Brazil            625\n",
       "England           573\n",
       "Germany           555\n",
       "Argentina         526\n",
       "                 ... \n",
       "Central Spain       1\n",
       "Saarland            1\n",
       "Surrey              1\n",
       "San Marino          1\n",
       "Gozo                1\n",
       "Name: date, Length: 301, dtype: int64"
      ]
     },
     "execution_count": 52,
     "metadata": {
      "tags": []
     },
     "output_type": "execute_result"
    }
   ],
   "source": [
    "matches_won_country = football_df.groupby('winning_team')[\"date\"].count()\n",
    "matches_won_country.sort_values(ascending=False)"
   ]
  },
  {
   "cell_type": "markdown",
   "metadata": {
    "id": "BfmmzKKe2Qd4"
   },
   "source": [
    "From the above data we get to know that Brazil has won the most number of matches and 9592 matches have ended in a draw."
   ]
  },
  {
   "cell_type": "markdown",
   "metadata": {
    "id": "KoI6GxmO22Ne"
   },
   "source": [
    "Most Matches Lost by a Country"
   ]
  },
  {
   "cell_type": "code",
   "execution_count": 53,
   "metadata": {
    "colab": {
     "base_uri": "https://localhost:8080/",
     "height": 238
    },
    "executionInfo": {
     "elapsed": 2518,
     "status": "ok",
     "timestamp": 1602173953309,
     "user": {
      "displayName": "Shrey Limbani",
      "photoUrl": "https://lh3.googleusercontent.com/a-/AOh14GjzFTWa7-tIu5X1rz-yNPr3-xsawaN4OuOTTP8qjA=s64",
      "userId": "06653236556182914480"
     },
     "user_tz": -330
    },
    "id": "YxYiZQ9Bo9VT",
    "outputId": "0e24a19f-fc8a-4955-b94f-be29e61e9dd9"
   },
   "outputs": [
    {
     "data": {
      "text/plain": [
       "losing_team\n",
       "Draw                  9592\n",
       "Finland                401\n",
       "Switzerland            345\n",
       "Northern Ireland       333\n",
       "Norway                 329\n",
       "                      ... \n",
       "Andalusia                1\n",
       "Canary Islands           1\n",
       "Parishes of Jersey       1\n",
       "Yorkshire                1\n",
       "Madrid                   1\n",
       "Name: date, Length: 311, dtype: int64"
      ]
     },
     "execution_count": 53,
     "metadata": {
      "tags": []
     },
     "output_type": "execute_result"
    }
   ],
   "source": [
    "matches_lost_country = football_df.groupby('losing_team')[\"date\"].count()\n",
    "matches_lost_country.sort_values(ascending=False)"
   ]
  },
  {
   "cell_type": "markdown",
   "metadata": {
    "id": "M9ogLz3q3EYl"
   },
   "source": [
    "Apparently Finland has lost the most number of international mathces."
   ]
  },
  {
   "cell_type": "code",
   "execution_count": 54,
   "metadata": {
    "colab": {
     "base_uri": "https://localhost:8080/",
     "height": 221
    },
    "executionInfo": {
     "elapsed": 2505,
     "status": "ok",
     "timestamp": 1602173953310,
     "user": {
      "displayName": "Shrey Limbani",
      "photoUrl": "https://lh3.googleusercontent.com/a-/AOh14GjzFTWa7-tIu5X1rz-yNPr3-xsawaN4OuOTTP8qjA=s64",
      "userId": "06653236556182914480"
     },
     "user_tz": -330
    },
    "id": "nuWKiUV13uJg",
    "outputId": "ef8e4fd2-e039-45ab-dbe0-685dbb97a8de"
   },
   "outputs": [
    {
     "data": {
      "text/plain": [
       "England                  2209.0\n",
       "Brazil                   2149.0\n",
       "Germany                  2126.0\n",
       "Sweden                   2015.0\n",
       "Hungary                  1889.0\n",
       "                          ...  \n",
       "Republic of St. Pauli       NaN\n",
       "Silesia                     NaN\n",
       "Surrey                      NaN\n",
       "Two Sicilies                NaN\n",
       "Western Australia           NaN\n",
       "Length: 312, dtype: float64"
      ]
     },
     "execution_count": 54,
     "metadata": {
      "tags": []
     },
     "output_type": "execute_result"
    }
   ],
   "source": [
    "goals_scored_country = football_df.groupby('home_team')[\"home_score\"].sum() + football_df.groupby('away_team')[\"away_score\"].sum()\n",
    "goals_scored_country.sort_values(ascending=False)"
   ]
  },
  {
   "cell_type": "markdown",
   "metadata": {
    "id": "f9xQ9tWX4c-I"
   },
   "source": [
    "These are the top 5 goalscoring countries of all time\n",
    "- England -                 2209.0\n",
    "- Brazil   -                2149.0\n",
    "- Germany   -               2126.0\n",
    "- Sweden     -              2015.0\n",
    "- Hungary     -             1889.0"
   ]
  },
  {
   "cell_type": "code",
   "execution_count": 55,
   "metadata": {
    "colab": {
     "base_uri": "https://localhost:8080/",
     "height": 221
    },
    "executionInfo": {
     "elapsed": 2493,
     "status": "ok",
     "timestamp": 1602173953312,
     "user": {
      "displayName": "Shrey Limbani",
      "photoUrl": "https://lh3.googleusercontent.com/a-/AOh14GjzFTWa7-tIu5X1rz-yNPr3-xsawaN4OuOTTP8qjA=s64",
      "userId": "06653236556182914480"
     },
     "user_tz": -330
    },
    "id": "lFNyWPqu4ygE",
    "outputId": "e782cca0-65de-41e6-9f1b-0242e7768744"
   },
   "outputs": [
    {
     "data": {
      "text/plain": [
       "Finland                  1564.0\n",
       "Hungary                  1389.0\n",
       "Switzerland              1342.0\n",
       "Norway                   1338.0\n",
       "Sweden                   1308.0\n",
       "                          ...  \n",
       "Republic of St. Pauli       NaN\n",
       "Silesia                     NaN\n",
       "Surrey                      NaN\n",
       "Two Sicilies                NaN\n",
       "Western Australia           NaN\n",
       "Length: 312, dtype: float64"
      ]
     },
     "execution_count": 55,
     "metadata": {
      "tags": []
     },
     "output_type": "execute_result"
    }
   ],
   "source": [
    "goals_conceded_country = football_df.groupby('home_team')[\"away_score\"].sum() + football_df.groupby('away_team')[\"home_score\"].sum()\n",
    "goals_conceded_country.sort_values(ascending=False)"
   ]
  },
  {
   "cell_type": "markdown",
   "metadata": {
    "id": "gTN6-dIt47oh"
   },
   "source": [
    "These teams have conceded the most goals \n",
    "* Finland\n",
    "* Switzerland\n",
    "* Norway\n",
    "* Hungary"
   ]
  },
  {
   "cell_type": "markdown",
   "metadata": {
    "id": "07ol1UiL5kl-"
   },
   "source": [
    "Let us find out which team has scored most average goals per match??"
   ]
  },
  {
   "cell_type": "code",
   "execution_count": 56,
   "metadata": {
    "colab": {
     "base_uri": "https://localhost:8080/",
     "height": 221
    },
    "executionInfo": {
     "elapsed": 2476,
     "status": "ok",
     "timestamp": 1602173953313,
     "user": {
      "displayName": "Shrey Limbani",
      "photoUrl": "https://lh3.googleusercontent.com/a-/AOh14GjzFTWa7-tIu5X1rz-yNPr3-xsawaN4OuOTTP8qjA=s64",
      "userId": "06653236556182914480"
     },
     "user_tz": -330
    },
    "id": "PEgsLlqH8STL",
    "outputId": "ec6d5c27-553f-466a-8c39-e9e53a9bb40a"
   },
   "outputs": [
    {
     "data": {
      "text/plain": [
       "Yorkshire                3.857143\n",
       "Parishes of Jersey       3.666667\n",
       "Cascadia                 3.285714\n",
       "Sápmi                    3.230769\n",
       "Isle of Man              3.183673\n",
       "                           ...   \n",
       "Republic of St. Pauli         NaN\n",
       "Silesia                       NaN\n",
       "Surrey                        NaN\n",
       "Two Sicilies                  NaN\n",
       "Western Australia             NaN\n",
       "Length: 312, dtype: float64"
      ]
     },
     "execution_count": 56,
     "metadata": {
      "tags": []
     },
     "output_type": "execute_result"
    }
   ],
   "source": [
    "average_goal_per_match_country = goals_scored_country / matches_played_country\n",
    "average_goal_per_match_country.sort_values(ascending=False)"
   ]
  },
  {
   "cell_type": "code",
   "execution_count": 57,
   "metadata": {
    "colab": {
     "base_uri": "https://localhost:8080/",
     "height": 609
    },
    "executionInfo": {
     "elapsed": 2463,
     "status": "ok",
     "timestamp": 1602173953314,
     "user": {
      "displayName": "Shrey Limbani",
      "photoUrl": "https://lh3.googleusercontent.com/a-/AOh14GjzFTWa7-tIu5X1rz-yNPr3-xsawaN4OuOTTP8qjA=s64",
      "userId": "06653236556182914480"
     },
     "user_tz": -330
    },
    "id": "z4eQZhbo-Vwf",
    "outputId": "78430988-41e1-49f9-9165-251a47084d5e"
   },
   "outputs": [
    {
     "data": {
      "text/html": [
       "<div>\n",
       "<style scoped>\n",
       "    .dataframe tbody tr th:only-of-type {\n",
       "        vertical-align: middle;\n",
       "    }\n",
       "\n",
       "    .dataframe tbody tr th {\n",
       "        vertical-align: top;\n",
       "    }\n",
       "\n",
       "    .dataframe thead th {\n",
       "        text-align: right;\n",
       "    }\n",
       "</style>\n",
       "<table border=\"1\" class=\"dataframe\">\n",
       "  <thead>\n",
       "    <tr style=\"text-align: right;\">\n",
       "      <th></th>\n",
       "      <th>date</th>\n",
       "      <th>home_team</th>\n",
       "      <th>away_team</th>\n",
       "      <th>home_score</th>\n",
       "      <th>away_score</th>\n",
       "      <th>tournament</th>\n",
       "      <th>city</th>\n",
       "      <th>country</th>\n",
       "      <th>neutral</th>\n",
       "      <th>month</th>\n",
       "      <th>year</th>\n",
       "      <th>winning_team</th>\n",
       "      <th>losing_team</th>\n",
       "    </tr>\n",
       "  </thead>\n",
       "  <tbody>\n",
       "    <tr>\n",
       "      <th>1304</th>\n",
       "      <td>1930-07-13</td>\n",
       "      <td>Belgium</td>\n",
       "      <td>United States</td>\n",
       "      <td>0</td>\n",
       "      <td>3</td>\n",
       "      <td>FIFA World Cup</td>\n",
       "      <td>Montevideo</td>\n",
       "      <td>Uruguay</td>\n",
       "      <td>True</td>\n",
       "      <td>7</td>\n",
       "      <td>1930</td>\n",
       "      <td>United States</td>\n",
       "      <td>Belgium</td>\n",
       "    </tr>\n",
       "    <tr>\n",
       "      <th>1305</th>\n",
       "      <td>1930-07-13</td>\n",
       "      <td>France</td>\n",
       "      <td>Mexico</td>\n",
       "      <td>4</td>\n",
       "      <td>1</td>\n",
       "      <td>FIFA World Cup</td>\n",
       "      <td>Montevideo</td>\n",
       "      <td>Uruguay</td>\n",
       "      <td>True</td>\n",
       "      <td>7</td>\n",
       "      <td>1930</td>\n",
       "      <td>France</td>\n",
       "      <td>Mexico</td>\n",
       "    </tr>\n",
       "    <tr>\n",
       "      <th>1306</th>\n",
       "      <td>1930-07-14</td>\n",
       "      <td>Brazil</td>\n",
       "      <td>Yugoslavia</td>\n",
       "      <td>1</td>\n",
       "      <td>2</td>\n",
       "      <td>FIFA World Cup</td>\n",
       "      <td>Montevideo</td>\n",
       "      <td>Uruguay</td>\n",
       "      <td>True</td>\n",
       "      <td>7</td>\n",
       "      <td>1930</td>\n",
       "      <td>Yugoslavia</td>\n",
       "      <td>Brazil</td>\n",
       "    </tr>\n",
       "    <tr>\n",
       "      <th>1307</th>\n",
       "      <td>1930-07-14</td>\n",
       "      <td>Peru</td>\n",
       "      <td>Romania</td>\n",
       "      <td>1</td>\n",
       "      <td>3</td>\n",
       "      <td>FIFA World Cup</td>\n",
       "      <td>Montevideo</td>\n",
       "      <td>Uruguay</td>\n",
       "      <td>True</td>\n",
       "      <td>7</td>\n",
       "      <td>1930</td>\n",
       "      <td>Romania</td>\n",
       "      <td>Peru</td>\n",
       "    </tr>\n",
       "    <tr>\n",
       "      <th>1308</th>\n",
       "      <td>1930-07-15</td>\n",
       "      <td>Argentina</td>\n",
       "      <td>France</td>\n",
       "      <td>1</td>\n",
       "      <td>0</td>\n",
       "      <td>FIFA World Cup</td>\n",
       "      <td>Montevideo</td>\n",
       "      <td>Uruguay</td>\n",
       "      <td>True</td>\n",
       "      <td>7</td>\n",
       "      <td>1930</td>\n",
       "      <td>Argentina</td>\n",
       "      <td>France</td>\n",
       "    </tr>\n",
       "    <tr>\n",
       "      <th>...</th>\n",
       "      <td>...</td>\n",
       "      <td>...</td>\n",
       "      <td>...</td>\n",
       "      <td>...</td>\n",
       "      <td>...</td>\n",
       "      <td>...</td>\n",
       "      <td>...</td>\n",
       "      <td>...</td>\n",
       "      <td>...</td>\n",
       "      <td>...</td>\n",
       "      <td>...</td>\n",
       "      <td>...</td>\n",
       "      <td>...</td>\n",
       "    </tr>\n",
       "    <tr>\n",
       "      <th>39945</th>\n",
       "      <td>2018-07-07</td>\n",
       "      <td>Russia</td>\n",
       "      <td>Croatia</td>\n",
       "      <td>2</td>\n",
       "      <td>2</td>\n",
       "      <td>FIFA World Cup</td>\n",
       "      <td>Sochi</td>\n",
       "      <td>Russia</td>\n",
       "      <td>False</td>\n",
       "      <td>7</td>\n",
       "      <td>2018</td>\n",
       "      <td>Draw</td>\n",
       "      <td>Draw</td>\n",
       "    </tr>\n",
       "    <tr>\n",
       "      <th>39946</th>\n",
       "      <td>2018-10-07</td>\n",
       "      <td>France</td>\n",
       "      <td>Belgium</td>\n",
       "      <td>1</td>\n",
       "      <td>0</td>\n",
       "      <td>FIFA World Cup</td>\n",
       "      <td>St. Petersburg</td>\n",
       "      <td>Russia</td>\n",
       "      <td>True</td>\n",
       "      <td>10</td>\n",
       "      <td>2018</td>\n",
       "      <td>France</td>\n",
       "      <td>Belgium</td>\n",
       "    </tr>\n",
       "    <tr>\n",
       "      <th>39947</th>\n",
       "      <td>2018-11-07</td>\n",
       "      <td>Croatia</td>\n",
       "      <td>England</td>\n",
       "      <td>2</td>\n",
       "      <td>1</td>\n",
       "      <td>FIFA World Cup</td>\n",
       "      <td>Moscow</td>\n",
       "      <td>Russia</td>\n",
       "      <td>True</td>\n",
       "      <td>11</td>\n",
       "      <td>2018</td>\n",
       "      <td>Croatia</td>\n",
       "      <td>England</td>\n",
       "    </tr>\n",
       "    <tr>\n",
       "      <th>39948</th>\n",
       "      <td>2018-07-14</td>\n",
       "      <td>Belgium</td>\n",
       "      <td>England</td>\n",
       "      <td>2</td>\n",
       "      <td>0</td>\n",
       "      <td>FIFA World Cup</td>\n",
       "      <td>St. Petersburg</td>\n",
       "      <td>Russia</td>\n",
       "      <td>True</td>\n",
       "      <td>7</td>\n",
       "      <td>2018</td>\n",
       "      <td>Belgium</td>\n",
       "      <td>England</td>\n",
       "    </tr>\n",
       "    <tr>\n",
       "      <th>39949</th>\n",
       "      <td>2018-07-15</td>\n",
       "      <td>France</td>\n",
       "      <td>Croatia</td>\n",
       "      <td>4</td>\n",
       "      <td>2</td>\n",
       "      <td>FIFA World Cup</td>\n",
       "      <td>Moscow</td>\n",
       "      <td>Russia</td>\n",
       "      <td>True</td>\n",
       "      <td>7</td>\n",
       "      <td>2018</td>\n",
       "      <td>France</td>\n",
       "      <td>Croatia</td>\n",
       "    </tr>\n",
       "  </tbody>\n",
       "</table>\n",
       "<p>900 rows × 13 columns</p>\n",
       "</div>"
      ],
      "text/plain": [
       "            date  home_team      away_team  ...  year   winning_team losing_team\n",
       "1304  1930-07-13    Belgium  United States  ...  1930  United States     Belgium\n",
       "1305  1930-07-13     France         Mexico  ...  1930         France      Mexico\n",
       "1306  1930-07-14     Brazil     Yugoslavia  ...  1930     Yugoslavia      Brazil\n",
       "1307  1930-07-14       Peru        Romania  ...  1930        Romania        Peru\n",
       "1308  1930-07-15  Argentina         France  ...  1930      Argentina      France\n",
       "...          ...        ...            ...  ...   ...            ...         ...\n",
       "39945 2018-07-07     Russia        Croatia  ...  2018           Draw        Draw\n",
       "39946 2018-10-07     France        Belgium  ...  2018         France     Belgium\n",
       "39947 2018-11-07    Croatia        England  ...  2018        Croatia     England\n",
       "39948 2018-07-14    Belgium        England  ...  2018        Belgium     England\n",
       "39949 2018-07-15     France        Croatia  ...  2018         France     Croatia\n",
       "\n",
       "[900 rows x 13 columns]"
      ]
     },
     "execution_count": 57,
     "metadata": {
      "tags": []
     },
     "output_type": "execute_result"
    }
   ],
   "source": [
    "world_cup_df = football_df[football_df.tournament == \"FIFA World Cup\"]\n",
    "world_cup_df"
   ]
  },
  {
   "cell_type": "code",
   "execution_count": 58,
   "metadata": {
    "colab": {
     "base_uri": "https://localhost:8080/",
     "height": 221
    },
    "executionInfo": {
     "elapsed": 3288,
     "status": "ok",
     "timestamp": 1602173954156,
     "user": {
      "displayName": "Shrey Limbani",
      "photoUrl": "https://lh3.googleusercontent.com/a-/AOh14GjzFTWa7-tIu5X1rz-yNPr3-xsawaN4OuOTTP8qjA=s64",
      "userId": "06653236556182914480"
     },
     "user_tz": -330
    },
    "id": "wOoB_YLYBL8L",
    "outputId": "b9b79cb1-0191-41e8-cd46-8c3171f0214d"
   },
   "outputs": [
    {
     "data": {
      "text/plain": [
       "Germany      109.0\n",
       "Brazil       109.0\n",
       "Italy         83.0\n",
       "Argentina     81.0\n",
       "England       69.0\n",
       "             ...  \n",
       "Cuba           NaN\n",
       "Indonesia      NaN\n",
       "Israel         NaN\n",
       "Kuwait         NaN\n",
       "Wales          NaN\n",
       "Length: 81, dtype: float64"
      ]
     },
     "execution_count": 58,
     "metadata": {
      "tags": []
     },
     "output_type": "execute_result"
    }
   ],
   "source": [
    "matches_played_country_world_cup = world_cup_df.groupby('home_team')[\"home_score\"].count() + world_cup_df.groupby('away_team')[\"away_score\"].count()\n",
    "matches_played_country_world_cup.sort_values(ascending=False)"
   ]
  },
  {
   "cell_type": "markdown",
   "metadata": {
    "id": "zHSywsILEq_8"
   },
   "source": [
    "Both Germany and Brazil have played most matches in the FIFA World Cup with a total count of 109."
   ]
  },
  {
   "cell_type": "code",
   "execution_count": 59,
   "metadata": {
    "colab": {
     "base_uri": "https://localhost:8080/",
     "height": 282
    },
    "executionInfo": {
     "elapsed": 5220,
     "status": "ok",
     "timestamp": 1602173956104,
     "user": {
      "displayName": "Shrey Limbani",
      "photoUrl": "https://lh3.googleusercontent.com/a-/AOh14GjzFTWa7-tIu5X1rz-yNPr3-xsawaN4OuOTTP8qjA=s64",
      "userId": "06653236556182914480"
     },
     "user_tz": -330
    },
    "id": "lGk4bOTZDNxl",
    "outputId": "7af0f266-7665-414e-b5ad-5e0b95894381"
   },
   "outputs": [
    {
     "data": {
      "text/plain": [
       "[<matplotlib.lines.Line2D at 0x7f98536b9eb8>]"
      ]
     },
     "execution_count": 59,
     "metadata": {
      "tags": []
     },
     "output_type": "execute_result"
    },
    {
     "data": {
      "image/png": "[encoded data removed]",
      "text/plain": [
       "<Figure size 432x288 with 1 Axes>"
      ]
     },
     "metadata": {
      "needs_background": "light",
      "tags": []
     },
     "output_type": "display_data"
    }
   ],
   "source": [
    "plt.plot(matches_played_country_world_cup)"
   ]
  },
  {
   "cell_type": "markdown",
   "metadata": {
    "id": "govssQ3UE4-j"
   },
   "source": [
    "This is the distribution of matches played by different countries in the World Cup"
   ]
  },
  {
   "cell_type": "code",
   "execution_count": 60,
   "metadata": {
    "colab": {
     "base_uri": "https://localhost:8080/",
     "height": 282
    },
    "executionInfo": {
     "elapsed": 5209,
     "status": "ok",
     "timestamp": 1602173956106,
     "user": {
      "displayName": "Shrey Limbani",
      "photoUrl": "https://lh3.googleusercontent.com/a-/AOh14GjzFTWa7-tIu5X1rz-yNPr3-xsawaN4OuOTTP8qjA=s64",
      "userId": "06653236556182914480"
     },
     "user_tz": -330
    },
    "id": "nyGESwSDFB7Q",
    "outputId": "6d9a43c6-77cb-445c-aaa3-176cb5a9d8d8"
   },
   "outputs": [
    {
     "data": {
      "text/plain": [
       "<BarContainer object of 21 artists>"
      ]
     },
     "execution_count": 60,
     "metadata": {
      "tags": []
     },
     "output_type": "execute_result"
    },
    {
     "data": {
      "image/png": "[encoded data removed]",
      "text/plain": [
       "<Figure size 432x288 with 1 Axes>"
      ]
     },
     "metadata": {
      "needs_background": "light",
      "tags": []
     },
     "output_type": "display_data"
    }
   ],
   "source": [
    "world_cup_year_df = world_cup_df.groupby('year')[['home_score','away_score']].sum()\n",
    "world_cup_year_df['total_goals_scored'] = world_cup_year_df.home_score + world_cup_year_df.away_score\n",
    "world_cup_year_df\n",
    "plt.bar(world_cup_year_df.index,world_cup_year_df.total_goals_scored)"
   ]
  },
  {
   "cell_type": "markdown",
   "metadata": {
    "id": "Sb_QRuTHJHUv"
   },
   "source": [
    "The bar shows that the number of goals scored per tournament was increasing during its early years and after 1996 the number of goals scored are found to be in between 140 and 170.\n",
    "The reason for this change is the increase in the number of matches played during each of these tournaments."
   ]
  },
  {
   "cell_type": "markdown",
   "metadata": {
    "id": "SMwjy3o8Asxy"
   },
   "source": [
    "HeatMap for goals scored for every month for a period of last 10 years."
   ]
  },
  {
   "cell_type": "code",
   "execution_count": 97,
   "metadata": {
    "colab": {
     "base_uri": "https://localhost:8080/",
     "height": 452
    },
    "executionInfo": {
     "elapsed": 1507,
     "status": "ok",
     "timestamp": 1602175421325,
     "user": {
      "displayName": "Shrey Limbani",
      "photoUrl": "https://lh3.googleusercontent.com/a-/AOh14GjzFTWa7-tIu5X1rz-yNPr3-xsawaN4OuOTTP8qjA=s64",
      "userId": "06653236556182914480"
     },
     "user_tz": -330
    },
    "id": "X0eHsDfIAsQC",
    "outputId": "fb3ad799-a2a1-40a6-b4eb-1100ddc72abf"
   },
   "outputs": [
    {
     "data": {
      "text/html": [
       "<div>\n",
       "<style scoped>\n",
       "    .dataframe tbody tr th:only-of-type {\n",
       "        vertical-align: middle;\n",
       "    }\n",
       "\n",
       "    .dataframe tbody tr th {\n",
       "        vertical-align: top;\n",
       "    }\n",
       "\n",
       "    .dataframe thead th {\n",
       "        text-align: right;\n",
       "    }\n",
       "</style>\n",
       "<table border=\"1\" class=\"dataframe\">\n",
       "  <thead>\n",
       "    <tr style=\"text-align: right;\">\n",
       "      <th>year</th>\n",
       "      <th>2011</th>\n",
       "      <th>2012</th>\n",
       "      <th>2013</th>\n",
       "      <th>2014</th>\n",
       "      <th>2015</th>\n",
       "      <th>2016</th>\n",
       "      <th>2017</th>\n",
       "      <th>2018</th>\n",
       "      <th>2019</th>\n",
       "      <th>2020</th>\n",
       "    </tr>\n",
       "    <tr>\n",
       "      <th>month</th>\n",
       "      <th></th>\n",
       "      <th></th>\n",
       "      <th></th>\n",
       "      <th></th>\n",
       "      <th></th>\n",
       "      <th></th>\n",
       "      <th></th>\n",
       "      <th></th>\n",
       "      <th></th>\n",
       "      <th></th>\n",
       "    </tr>\n",
       "  </thead>\n",
       "  <tbody>\n",
       "    <tr>\n",
       "      <th>1</th>\n",
       "      <td>173.0</td>\n",
       "      <td>189.0</td>\n",
       "      <td>143.0</td>\n",
       "      <td>176.0</td>\n",
       "      <td>167.0</td>\n",
       "      <td>208.0</td>\n",
       "      <td>183.0</td>\n",
       "      <td>113.0</td>\n",
       "      <td>95.0</td>\n",
       "      <td>3.0</td>\n",
       "    </tr>\n",
       "    <tr>\n",
       "      <th>2</th>\n",
       "      <td>211.0</td>\n",
       "      <td>325.0</td>\n",
       "      <td>76.0</td>\n",
       "      <td>58.0</td>\n",
       "      <td>44.0</td>\n",
       "      <td>91.0</td>\n",
       "      <td>80.0</td>\n",
       "      <td>83.0</td>\n",
       "      <td>80.0</td>\n",
       "      <td>NaN</td>\n",
       "    </tr>\n",
       "    <tr>\n",
       "      <th>3</th>\n",
       "      <td>407.0</td>\n",
       "      <td>94.0</td>\n",
       "      <td>341.0</td>\n",
       "      <td>91.0</td>\n",
       "      <td>412.0</td>\n",
       "      <td>560.0</td>\n",
       "      <td>366.0</td>\n",
       "      <td>409.0</td>\n",
       "      <td>380.0</td>\n",
       "      <td>20.0</td>\n",
       "    </tr>\n",
       "    <tr>\n",
       "      <th>4</th>\n",
       "      <td>89.0</td>\n",
       "      <td>55.0</td>\n",
       "      <td>79.0</td>\n",
       "      <td>93.0</td>\n",
       "      <td>53.0</td>\n",
       "      <td>128.0</td>\n",
       "      <td>107.0</td>\n",
       "      <td>50.0</td>\n",
       "      <td>76.0</td>\n",
       "      <td>18.0</td>\n",
       "    </tr>\n",
       "    <tr>\n",
       "      <th>5</th>\n",
       "      <td>184.0</td>\n",
       "      <td>256.0</td>\n",
       "      <td>102.0</td>\n",
       "      <td>437.0</td>\n",
       "      <td>182.0</td>\n",
       "      <td>315.0</td>\n",
       "      <td>254.0</td>\n",
       "      <td>180.0</td>\n",
       "      <td>212.0</td>\n",
       "      <td>19.0</td>\n",
       "    </tr>\n",
       "    <tr>\n",
       "      <th>6</th>\n",
       "      <td>367.0</td>\n",
       "      <td>163.0</td>\n",
       "      <td>444.0</td>\n",
       "      <td>264.0</td>\n",
       "      <td>487.0</td>\n",
       "      <td>367.0</td>\n",
       "      <td>390.0</td>\n",
       "      <td>200.0</td>\n",
       "      <td>452.0</td>\n",
       "      <td>20.0</td>\n",
       "    </tr>\n",
       "    <tr>\n",
       "      <th>7</th>\n",
       "      <td>411.0</td>\n",
       "      <td>210.0</td>\n",
       "      <td>275.0</td>\n",
       "      <td>138.0</td>\n",
       "      <td>115.0</td>\n",
       "      <td>114.0</td>\n",
       "      <td>268.0</td>\n",
       "      <td>120.0</td>\n",
       "      <td>286.0</td>\n",
       "      <td>29.0</td>\n",
       "    </tr>\n",
       "    <tr>\n",
       "      <th>8</th>\n",
       "      <td>202.0</td>\n",
       "      <td>289.0</td>\n",
       "      <td>230.0</td>\n",
       "      <td>115.0</td>\n",
       "      <td>238.0</td>\n",
       "      <td>178.0</td>\n",
       "      <td>195.0</td>\n",
       "      <td>115.0</td>\n",
       "      <td>187.0</td>\n",
       "      <td>22.0</td>\n",
       "    </tr>\n",
       "    <tr>\n",
       "      <th>9</th>\n",
       "      <td>170.0</td>\n",
       "      <td>264.0</td>\n",
       "      <td>81.0</td>\n",
       "      <td>84.0</td>\n",
       "      <td>86.0</td>\n",
       "      <td>93.0</td>\n",
       "      <td>131.0</td>\n",
       "      <td>105.0</td>\n",
       "      <td>142.0</td>\n",
       "      <td>1.0</td>\n",
       "    </tr>\n",
       "    <tr>\n",
       "      <th>10</th>\n",
       "      <td>155.0</td>\n",
       "      <td>290.0</td>\n",
       "      <td>307.0</td>\n",
       "      <td>267.0</td>\n",
       "      <td>251.0</td>\n",
       "      <td>106.0</td>\n",
       "      <td>257.0</td>\n",
       "      <td>302.0</td>\n",
       "      <td>649.0</td>\n",
       "      <td>5.0</td>\n",
       "    </tr>\n",
       "    <tr>\n",
       "      <th>11</th>\n",
       "      <td>555.0</td>\n",
       "      <td>422.0</td>\n",
       "      <td>392.0</td>\n",
       "      <td>410.0</td>\n",
       "      <td>420.0</td>\n",
       "      <td>291.0</td>\n",
       "      <td>239.0</td>\n",
       "      <td>502.0</td>\n",
       "      <td>685.0</td>\n",
       "      <td>NaN</td>\n",
       "    </tr>\n",
       "    <tr>\n",
       "      <th>12</th>\n",
       "      <td>56.0</td>\n",
       "      <td>252.0</td>\n",
       "      <td>57.0</td>\n",
       "      <td>116.0</td>\n",
       "      <td>223.0</td>\n",
       "      <td>80.0</td>\n",
       "      <td>113.0</td>\n",
       "      <td>180.0</td>\n",
       "      <td>74.0</td>\n",
       "      <td>1.0</td>\n",
       "    </tr>\n",
       "  </tbody>\n",
       "</table>\n",
       "</div>"
      ],
      "text/plain": [
       "year    2011   2012   2013   2014   2015   2016   2017   2018   2019  2020\n",
       "month                                                                     \n",
       "1      173.0  189.0  143.0  176.0  167.0  208.0  183.0  113.0   95.0   3.0\n",
       "2      211.0  325.0   76.0   58.0   44.0   91.0   80.0   83.0   80.0   NaN\n",
       "3      407.0   94.0  341.0   91.0  412.0  560.0  366.0  409.0  380.0  20.0\n",
       "4       89.0   55.0   79.0   93.0   53.0  128.0  107.0   50.0   76.0  18.0\n",
       "5      184.0  256.0  102.0  437.0  182.0  315.0  254.0  180.0  212.0  19.0\n",
       "6      367.0  163.0  444.0  264.0  487.0  367.0  390.0  200.0  452.0  20.0\n",
       "7      411.0  210.0  275.0  138.0  115.0  114.0  268.0  120.0  286.0  29.0\n",
       "8      202.0  289.0  230.0  115.0  238.0  178.0  195.0  115.0  187.0  22.0\n",
       "9      170.0  264.0   81.0   84.0   86.0   93.0  131.0  105.0  142.0   1.0\n",
       "10     155.0  290.0  307.0  267.0  251.0  106.0  257.0  302.0  649.0   5.0\n",
       "11     555.0  422.0  392.0  410.0  420.0  291.0  239.0  502.0  685.0   NaN\n",
       "12      56.0  252.0   57.0  116.0  223.0   80.0  113.0  180.0   74.0   1.0"
      ]
     },
     "execution_count": 97,
     "metadata": {
      "tags": []
     },
     "output_type": "execute_result"
    }
   ],
   "source": [
    "goals_per_month_df = football_df[(football_df.year>2010) & (football_df.year<=2020)].groupby([\"month\",\"year\"], as_index=False)[[\"home_score\",\"away_score\"]].sum()\n",
    "goals_per_month_df[\"total_goals\"] = goals_per_month_df.home_score+goals_per_month_df.away_score\n",
    "goals_per_month_df\n",
    "goals_per_month = goals_per_month_df.pivot(index='month', columns='year', values='total_goals')\n",
    "goals_per_month"
   ]
  },
  {
   "cell_type": "code",
   "execution_count": 102,
   "metadata": {
    "colab": {
     "base_uri": "https://localhost:8080/",
     "height": 312
    },
    "executionInfo": {
     "elapsed": 1642,
     "status": "ok",
     "timestamp": 1602175716485,
     "user": {
      "displayName": "Shrey Limbani",
      "photoUrl": "https://lh3.googleusercontent.com/a-/AOh14GjzFTWa7-tIu5X1rz-yNPr3-xsawaN4OuOTTP8qjA=s64",
      "userId": "06653236556182914480"
     },
     "user_tz": -330
    },
    "id": "ycmPOyeSFWoW",
    "outputId": "4521598f-7553-4a44-bf85-1cb184f2ea9b"
   },
   "outputs": [
    {
     "data": {
      "text/plain": [
       "<matplotlib.axes._subplots.AxesSubplot at 0x7f985354af28>"
      ]
     },
     "execution_count": 102,
     "metadata": {
      "tags": []
     },
     "output_type": "execute_result"
    },
    {
     "data": {
      "image/png": "[encoded data removed]",
      "text/plain": [
       "<Figure size 432x288 with 2 Axes>"
      ]
     },
     "metadata": {
      "needs_background": "light",
      "tags": []
     },
     "output_type": "display_data"
    }
   ],
   "source": [
    "plt.title(\"Number of goals scored per month across 10 years\")\n",
    "sns.heatmap(goals_per_month, cmap='Blues')"
   ]
  },
  {
   "cell_type": "code",
   "execution_count": 103,
   "metadata": {
    "colab": {
     "base_uri": "https://localhost:8080/",
     "height": 454
    },
    "executionInfo": {
     "elapsed": 1573,
     "status": "ok",
     "timestamp": 1602175941337,
     "user": {
      "displayName": "Shrey Limbani",
      "photoUrl": "https://lh3.googleusercontent.com/a-/AOh14GjzFTWa7-tIu5X1rz-yNPr3-xsawaN4OuOTTP8qjA=s64",
      "userId": "06653236556182914480"
     },
     "user_tz": -330
    },
    "id": "yJM7--zqHIDC",
    "outputId": "48a451ab-b70e-42aa-ae42-19a8b961be41"
   },
   "outputs": [
    {
     "name": "stderr",
     "output_type": "stream",
     "text": [
      "/usr/local/lib/python3.6/dist-packages/numpy/lib/histograms.py:839: RuntimeWarning: invalid value encountered in greater_equal\n",
      "  keep = (tmp_a >= first_edge)\n",
      "/usr/local/lib/python3.6/dist-packages/numpy/lib/histograms.py:840: RuntimeWarning: invalid value encountered in less_equal\n",
      "  keep &= (tmp_a <= last_edge)\n"
     ]
    },
    {
     "data": {
      "text/plain": [
       "(array([ 7., 20., 72., 92., 66., 23.,  9.,  7.,  3.,  2.]),\n",
       " array([0.        , 0.38571429, 0.77142857, 1.15714286, 1.54285714,\n",
       "        1.92857143, 2.31428571, 2.7       , 3.08571429, 3.47142857,\n",
       "        3.85714286]),\n",
       " <a list of 10 Patch objects>)"
      ]
     },
     "execution_count": 103,
     "metadata": {
      "tags": []
     },
     "output_type": "execute_result"
    },
    {
     "data": {
      "image/png": "[encoded data removed]",
      "text/plain": [
       "<Figure size 432x288 with 1 Axes>"
      ]
     },
     "metadata": {
      "needs_background": "light",
      "tags": []
     },
     "output_type": "display_data"
    }
   ],
   "source": [
    "plt.title('Distribution of average goals scored in a match by a country Width')\n",
    "plt.hist(average_goal_per_match_country)"
   ]
  },
  {
   "cell_type": "code",
   "execution_count": 124,
   "metadata": {
    "colab": {
     "base_uri": "https://localhost:8080/",
     "height": 281
    },
    "executionInfo": {
     "elapsed": 2056,
     "status": "ok",
     "timestamp": 1602177512491,
     "user": {
      "displayName": "Shrey Limbani",
      "photoUrl": "https://lh3.googleusercontent.com/a-/AOh14GjzFTWa7-tIu5X1rz-yNPr3-xsawaN4OuOTTP8qjA=s64",
      "userId": "06653236556182914480"
     },
     "user_tz": -330
    },
    "id": "DCgh5msNHIGb",
    "outputId": "d9ceaca8-56e4-4ee4-8a62-e57ccc1a9440"
   },
   "outputs": [
    {
     "data": {
      "image/png": "[encoded data removed]",
      "text/plain": [
       "<Figure size 432x288 with 1 Axes>"
      ]
     },
     "metadata": {
      "needs_background": "light",
      "tags": []
     },
     "output_type": "display_data"
    }
   ],
   "source": [
    "brazil_home_goals_df = football_df[((football_df.home_team==\"Brazil\")) & ((football_df.year>2010) & (football_df.year<=2020))].groupby(\"year\", as_index=False)[[\"home_score\",\"away_score\"]].sum()\n",
    "brazil_home_goals_df.columns = [\"year\",\"goals_scored\",\"goals_conceded\"]\n",
    "brazil_away_goals_df = football_df[((football_df.away_team==\"Brazil\")) & ((football_df.year>2010) & (football_df.year<=2020))].groupby(\"year\", as_index=False)[[\"away_score\",\"home_score\"]].sum()\n",
    "brazil_away_goals_df.columns = [\"year\",\"goals_scored\",\"goals_conceded\"]\n",
    "brazil_goals_df = brazil_home_goals_df + brazil_away_goals_df\n",
    "brazil_goals_df.year = brazil_goals_df.year//2\n",
    "brazil_goals_df\n",
    "\n",
    "plt.title('Brazil : Goals Scored and Conceded')\n",
    "ind = np.arange(9) \n",
    "width = 0.35\n",
    "\n",
    "plt.bar(ind, brazil_goals_df.goals_scored, width, label=\"Scored\")\n",
    "plt.bar(ind+width, brazil_goals_df.goals_conceded, width, label=\"Conceded\")\n",
    "\n",
    "plt.xticks(ind + width / 2, brazil_goals_df.year)\n",
    "plt.legend(loc='best')\n",
    "plt.show()"
   ]
  },
  {
   "cell_type": "code",
   "execution_count": 125,
   "metadata": {
    "executionInfo": {
     "elapsed": 2584,
     "status": "ok",
     "timestamp": 1602178051675,
     "user": {
      "displayName": "Shrey Limbani",
      "photoUrl": "https://lh3.googleusercontent.com/a-/AOh14GjzFTWa7-tIu5X1rz-yNPr3-xsawaN4OuOTTP8qjA=s64",
      "userId": "06653236556182914480"
     },
     "user_tz": -330
    },
    "id": "iKIqPneCo9VY"
   },
   "outputs": [],
   "source": [
    "import jovian"
   ]
  },
  {
   "cell_type": "code",
   "execution_count": 126,
   "metadata": {
    "colab": {
     "base_uri": "https://localhost:8080/",
     "height": 86
    },
    "executionInfo": {
     "elapsed": 6769,
     "status": "ok",
     "timestamp": 1602178058991,
     "user": {
      "displayName": "Shrey Limbani",
      "photoUrl": "https://lh3.googleusercontent.com/a-/AOh14GjzFTWa7-tIu5X1rz-yNPr3-xsawaN4OuOTTP8qjA=s64",
      "userId": "06653236556182914480"
     },
     "user_tz": -330
    },
    "id": "BrnfZ6bYo9Vc",
    "outputId": "0558202b-494e-4428-bb27-3972ca2fb024"
   },
   "outputs": [
    {
     "name": "stdout",
     "output_type": "stream",
     "text": [
      "[jovian] Detected Colab notebook...\u001b[0m\n",
      "[jovian] Uploading colab notebook to Jovian...\u001b[0m\n",
      "[jovian] Committed successfully! https://jovian.ml/shreylimbani/international-mens-football-analysis\u001b[0m\n"
     ]
    },
    {
     "data": {
      "application/vnd.google.colaboratory.intrinsic+json": {
       "type": "string"
      },
      "text/plain": [
       "'https://jovian.ml/shreylimbani/international-mens-football-analysis'"
      ]
     },
     "execution_count": 126,
     "metadata": {
      "tags": []
     },
     "output_type": "execute_result"
    }
   ],
   "source": [
    "jovian.commit(project=project_name)"
   ]
  },
  {
   "cell_type": "markdown",
   "metadata": {
    "id": "YsHRbkLJo9Vj"
   },
   "source": [
    "## Asking and Answering Questions\n"
   ]
  },
  {
   "cell_type": "markdown",
   "metadata": {
    "id": "XGoeKySaOYd9"
   },
   "source": [
    "Well the most obvious question about the history of football are:\n",
    " - Which team has won most number of matches?\n",
    " - Which team has scored most number of goals?\n",
    " - Which team has played the most matches till date?"
   ]
  },
  {
   "cell_type": "code",
   "execution_count": 128,
   "metadata": {
    "colab": {
     "base_uri": "https://localhost:8080/",
     "height": 289
    },
    "executionInfo": {
     "elapsed": 1665,
     "status": "ok",
     "timestamp": 1602178145108,
     "user": {
      "displayName": "Shrey Limbani",
      "photoUrl": "https://lh3.googleusercontent.com/a-/AOh14GjzFTWa7-tIu5X1rz-yNPr3-xsawaN4OuOTTP8qjA=s64",
      "userId": "06653236556182914480"
     },
     "user_tz": -330
    },
    "id": "Id174jVuo9Vk",
    "outputId": "feef2435-04e6-4f3e-fae5-beac55ecdd0d"
   },
   "outputs": [
    {
     "data": {
      "text/plain": [
       "Sweden         1020.0\n",
       "England        1011.0\n",
       "Brazil          981.0\n",
       "Argentina       980.0\n",
       "Germany         951.0\n",
       "Hungary         930.0\n",
       "Uruguay         884.0\n",
       "Mexico          869.0\n",
       "South Korea     862.0\n",
       "France          842.0\n",
       "Poland          817.0\n",
       "Norway          806.0\n",
       "Italy           802.0\n",
       "Switzerland     799.0\n",
       "Denmark         797.0\n",
       "Name: date, dtype: float64"
      ]
     },
     "execution_count": 128,
     "metadata": {
      "tags": []
     },
     "output_type": "execute_result"
    }
   ],
   "source": [
    "matches_played_country.sort_values(ascending = False).head(15)"
   ]
  },
  {
   "cell_type": "code",
   "execution_count": 129,
   "metadata": {
    "colab": {
     "base_uri": "https://localhost:8080/",
     "height": 204
    },
    "executionInfo": {
     "elapsed": 1525,
     "status": "ok",
     "timestamp": 1602178206871,
     "user": {
      "displayName": "Shrey Limbani",
      "photoUrl": "https://lh3.googleusercontent.com/a-/AOh14GjzFTWa7-tIu5X1rz-yNPr3-xsawaN4OuOTTP8qjA=s64",
      "userId": "06653236556182914480"
     },
     "user_tz": -330
    },
    "id": "nzITgYAUo9Vo",
    "outputId": "aa65671a-1e5d-4750-dd4e-8a86fc496e18"
   },
   "outputs": [
    {
     "data": {
      "text/plain": [
       "England        2209.0\n",
       "Brazil         2149.0\n",
       "Germany        2126.0\n",
       "Sweden         2015.0\n",
       "Hungary        1889.0\n",
       "Argentina      1830.0\n",
       "Netherlands    1619.0\n",
       "Mexico         1514.0\n",
       "South Korea    1512.0\n",
       "France         1498.0\n",
       "dtype: float64"
      ]
     },
     "execution_count": 129,
     "metadata": {
      "tags": []
     },
     "output_type": "execute_result"
    }
   ],
   "source": [
    "goals_scored_country.sort_values(ascending=False).head(10)"
   ]
  },
  {
   "cell_type": "code",
   "execution_count": 130,
   "metadata": {
    "colab": {
     "base_uri": "https://localhost:8080/",
     "height": 221
    },
    "executionInfo": {
     "elapsed": 1892,
     "status": "ok",
     "timestamp": 1602178231980,
     "user": {
      "displayName": "Shrey Limbani",
      "photoUrl": "https://lh3.googleusercontent.com/a-/AOh14GjzFTWa7-tIu5X1rz-yNPr3-xsawaN4OuOTTP8qjA=s64",
      "userId": "06653236556182914480"
     },
     "user_tz": -330
    },
    "id": "jHaGwizXo9Vt",
    "outputId": "bbda4dc4-e9fb-41ff-bd41-a34978a4ae0a"
   },
   "outputs": [
    {
     "data": {
      "text/plain": [
       "winning_team\n",
       "Draw           9592\n",
       "Brazil          625\n",
       "England         573\n",
       "Germany         555\n",
       "Argentina       526\n",
       "Sweden          500\n",
       "South Korea     454\n",
       "Mexico          439\n",
       "Hungary         435\n",
       "Italy           424\n",
       "Name: date, dtype: int64"
      ]
     },
     "execution_count": 130,
     "metadata": {
      "tags": []
     },
     "output_type": "execute_result"
    }
   ],
   "source": [
    "matches_won_country.sort_values(ascending=False).head(10)"
   ]
  },
  {
   "cell_type": "markdown",
   "metadata": {
    "id": "KEJX5u-LQ9tL"
   },
   "source": [
    "So from the above three sets of values, we can provide answers to the question asked : \n",
    "- Most Matches Played: Sweden(1020)\n",
    "- Most Goals Scored: England(2209)\n",
    "- Most Wins: Brazil(625)"
   ]
  },
  {
   "cell_type": "markdown",
   "metadata": {
    "id": "bRLhvaG-RuvM"
   },
   "source": [
    "Case Study of Brazil's matches (2011-2019):\n",
    "\n",
    "> - Average Goals Scored Per Year - ?\n",
    "- Average Goals Conceded Per Year - ?\n"
   ]
  },
  {
   "cell_type": "code",
   "execution_count": 133,
   "metadata": {
    "colab": {
     "base_uri": "https://localhost:8080/",
     "height": 297
    },
    "executionInfo": {
     "elapsed": 1496,
     "status": "ok",
     "timestamp": 1602178761703,
     "user": {
      "displayName": "Shrey Limbani",
      "photoUrl": "https://lh3.googleusercontent.com/a-/AOh14GjzFTWa7-tIu5X1rz-yNPr3-xsawaN4OuOTTP8qjA=s64",
      "userId": "06653236556182914480"
     },
     "user_tz": -330
    },
    "id": "9YiCDnjXo9Vy",
    "outputId": "f4d4aa5e-1e18-4197-f91d-977fd9275065"
   },
   "outputs": [
    {
     "data": {
      "text/html": [
       "<div>\n",
       "<style scoped>\n",
       "    .dataframe tbody tr th:only-of-type {\n",
       "        vertical-align: middle;\n",
       "    }\n",
       "\n",
       "    .dataframe tbody tr th {\n",
       "        vertical-align: top;\n",
       "    }\n",
       "\n",
       "    .dataframe thead th {\n",
       "        text-align: right;\n",
       "    }\n",
       "</style>\n",
       "<table border=\"1\" class=\"dataframe\">\n",
       "  <thead>\n",
       "    <tr style=\"text-align: right;\">\n",
       "      <th></th>\n",
       "      <th>goals_scored</th>\n",
       "      <th>goals_conceded</th>\n",
       "    </tr>\n",
       "  </thead>\n",
       "  <tbody>\n",
       "    <tr>\n",
       "      <th>count</th>\n",
       "      <td>9.000000</td>\n",
       "      <td>9.000000</td>\n",
       "    </tr>\n",
       "    <tr>\n",
       "      <th>mean</th>\n",
       "      <td>30.222222</td>\n",
       "      <td>9.222222</td>\n",
       "    </tr>\n",
       "    <tr>\n",
       "      <th>std</th>\n",
       "      <td>9.417773</td>\n",
       "      <td>4.381146</td>\n",
       "    </tr>\n",
       "    <tr>\n",
       "      <th>min</th>\n",
       "      <td>20.000000</td>\n",
       "      <td>3.000000</td>\n",
       "    </tr>\n",
       "    <tr>\n",
       "      <th>25%</th>\n",
       "      <td>21.000000</td>\n",
       "      <td>7.000000</td>\n",
       "    </tr>\n",
       "    <tr>\n",
       "      <th>50%</th>\n",
       "      <td>29.000000</td>\n",
       "      <td>9.000000</td>\n",
       "    </tr>\n",
       "    <tr>\n",
       "      <th>75%</th>\n",
       "      <td>33.000000</td>\n",
       "      <td>13.000000</td>\n",
       "    </tr>\n",
       "    <tr>\n",
       "      <th>max</th>\n",
       "      <td>49.000000</td>\n",
       "      <td>15.000000</td>\n",
       "    </tr>\n",
       "  </tbody>\n",
       "</table>\n",
       "</div>"
      ],
      "text/plain": [
       "       goals_scored  goals_conceded\n",
       "count      9.000000        9.000000\n",
       "mean      30.222222        9.222222\n",
       "std        9.417773        4.381146\n",
       "min       20.000000        3.000000\n",
       "25%       21.000000        7.000000\n",
       "50%       29.000000        9.000000\n",
       "75%       33.000000       13.000000\n",
       "max       49.000000       15.000000"
      ]
     },
     "execution_count": 133,
     "metadata": {
      "tags": []
     },
     "output_type": "execute_result"
    }
   ],
   "source": [
    "brazil_goals_df[[\"goals_scored\",\"goals_conceded\"]].describe()"
   ]
  },
  {
   "cell_type": "markdown",
   "metadata": {
    "id": "nGmtJWx9TDbG"
   },
   "source": [
    "This data is applicable only to the matches played between 2011 and 2019.\n",
    "\n",
    " - Average Number of goals scored per year : 30.2\n",
    " - Average Number of goals conceded per year : 9.2\n",
    " - Min number of goals scored in a year : 20\n",
    " - Min number of goals conceded in a year : 3\n",
    " - Max number of goals scored in a year : 49\n",
    " - Max number of goals conceded in a year : 15\n",
    " "
   ]
  },
  {
   "cell_type": "markdown",
   "metadata": {
    "id": "fRguwNrWTlZW"
   },
   "source": [
    "Now we are ready to discuss a few statistics about the matches played in the Fifa World Cup. \n",
    "\n",
    "- How many countries have participated in the world cup?\n",
    "- Which team has played most number of matches in the world cup?\n",
    "- In which world cup were most number of goals scored?"
   ]
  },
  {
   "cell_type": "code",
   "execution_count": 148,
   "metadata": {
    "colab": {
     "base_uri": "https://localhost:8080/",
     "height": 221
    },
    "executionInfo": {
     "elapsed": 1511,
     "status": "ok",
     "timestamp": 1602179636801,
     "user": {
      "displayName": "Shrey Limbani",
      "photoUrl": "https://lh3.googleusercontent.com/a-/AOh14GjzFTWa7-tIu5X1rz-yNPr3-xsawaN4OuOTTP8qjA=s64",
      "userId": "06653236556182914480"
     },
     "user_tz": -330
    },
    "id": "FGLymgyQUuFt",
    "outputId": "860ec0ca-2672-47ec-b509-71f3479dc01d"
   },
   "outputs": [
    {
     "data": {
      "text/plain": [
       "Algeria                 13.0\n",
       "Angola                   3.0\n",
       "Argentina               81.0\n",
       "Australia               16.0\n",
       "Austria                 29.0\n",
       "                        ... \n",
       "United Arab Emirates     3.0\n",
       "United States           33.0\n",
       "Uruguay                 56.0\n",
       "Wales                    NaN\n",
       "Yugoslavia              33.0\n",
       "Length: 81, dtype: float64"
      ]
     },
     "execution_count": 148,
     "metadata": {
      "tags": []
     },
     "output_type": "execute_result"
    }
   ],
   "source": [
    "matches_played_country_world_cup"
   ]
  },
  {
   "cell_type": "code",
   "execution_count": 147,
   "metadata": {
    "colab": {
     "base_uri": "https://localhost:8080/",
     "height": 204
    },
    "executionInfo": {
     "elapsed": 1727,
     "status": "ok",
     "timestamp": 1602179459556,
     "user": {
      "displayName": "Shrey Limbani",
      "photoUrl": "https://lh3.googleusercontent.com/a-/AOh14GjzFTWa7-tIu5X1rz-yNPr3-xsawaN4OuOTTP8qjA=s64",
      "userId": "06653236556182914480"
     },
     "user_tz": -330
    },
    "id": "aiT33D9co9V3",
    "outputId": "54d112a9-f01a-4870-de0f-4c0277b4491d"
   },
   "outputs": [
    {
     "data": {
      "text/plain": [
       "Germany      109.0\n",
       "Brazil       109.0\n",
       "Italy         83.0\n",
       "Argentina     81.0\n",
       "England       69.0\n",
       "France        66.0\n",
       "Spain         63.0\n",
       "Mexico        57.0\n",
       "Uruguay       56.0\n",
       "Sweden        51.0\n",
       "dtype: float64"
      ]
     },
     "execution_count": 147,
     "metadata": {
      "tags": []
     },
     "output_type": "execute_result"
    }
   ],
   "source": [
    "matches_played_country_world_cup.sort_values(ascending=False).head(10)"
   ]
  },
  {
   "cell_type": "code",
   "execution_count": 154,
   "metadata": {
    "colab": {
     "base_uri": "https://localhost:8080/",
     "height": 700
    },
    "executionInfo": {
     "elapsed": 2063,
     "status": "ok",
     "timestamp": 1602180074355,
     "user": {
      "displayName": "Shrey Limbani",
      "photoUrl": "https://lh3.googleusercontent.com/a-/AOh14GjzFTWa7-tIu5X1rz-yNPr3-xsawaN4OuOTTP8qjA=s64",
      "userId": "06653236556182914480"
     },
     "user_tz": -330
    },
    "id": "r2jkDOrlo9V8",
    "outputId": "4aeeb248-3591-414f-bf3d-db1d2d737697"
   },
   "outputs": [
    {
     "data": {
      "text/html": [
       "<div>\n",
       "<style scoped>\n",
       "    .dataframe tbody tr th:only-of-type {\n",
       "        vertical-align: middle;\n",
       "    }\n",
       "\n",
       "    .dataframe tbody tr th {\n",
       "        vertical-align: top;\n",
       "    }\n",
       "\n",
       "    .dataframe thead th {\n",
       "        text-align: right;\n",
       "    }\n",
       "</style>\n",
       "<table border=\"1\" class=\"dataframe\">\n",
       "  <thead>\n",
       "    <tr style=\"text-align: right;\">\n",
       "      <th></th>\n",
       "      <th>year</th>\n",
       "      <th>total_goals_scored</th>\n",
       "    </tr>\n",
       "  </thead>\n",
       "  <tbody>\n",
       "    <tr>\n",
       "      <th>19</th>\n",
       "      <td>2014</td>\n",
       "      <td>171</td>\n",
       "    </tr>\n",
       "    <tr>\n",
       "      <th>15</th>\n",
       "      <td>1998</td>\n",
       "      <td>171</td>\n",
       "    </tr>\n",
       "    <tr>\n",
       "      <th>20</th>\n",
       "      <td>2018</td>\n",
       "      <td>169</td>\n",
       "    </tr>\n",
       "    <tr>\n",
       "      <th>16</th>\n",
       "      <td>2002</td>\n",
       "      <td>161</td>\n",
       "    </tr>\n",
       "    <tr>\n",
       "      <th>17</th>\n",
       "      <td>2006</td>\n",
       "      <td>147</td>\n",
       "    </tr>\n",
       "    <tr>\n",
       "      <th>11</th>\n",
       "      <td>1982</td>\n",
       "      <td>146</td>\n",
       "    </tr>\n",
       "    <tr>\n",
       "      <th>18</th>\n",
       "      <td>2010</td>\n",
       "      <td>145</td>\n",
       "    </tr>\n",
       "    <tr>\n",
       "      <th>14</th>\n",
       "      <td>1994</td>\n",
       "      <td>141</td>\n",
       "    </tr>\n",
       "    <tr>\n",
       "      <th>4</th>\n",
       "      <td>1954</td>\n",
       "      <td>140</td>\n",
       "    </tr>\n",
       "    <tr>\n",
       "      <th>12</th>\n",
       "      <td>1986</td>\n",
       "      <td>132</td>\n",
       "    </tr>\n",
       "    <tr>\n",
       "      <th>5</th>\n",
       "      <td>1958</td>\n",
       "      <td>126</td>\n",
       "    </tr>\n",
       "    <tr>\n",
       "      <th>13</th>\n",
       "      <td>1990</td>\n",
       "      <td>115</td>\n",
       "    </tr>\n",
       "    <tr>\n",
       "      <th>10</th>\n",
       "      <td>1978</td>\n",
       "      <td>102</td>\n",
       "    </tr>\n",
       "    <tr>\n",
       "      <th>9</th>\n",
       "      <td>1974</td>\n",
       "      <td>97</td>\n",
       "    </tr>\n",
       "    <tr>\n",
       "      <th>8</th>\n",
       "      <td>1970</td>\n",
       "      <td>95</td>\n",
       "    </tr>\n",
       "    <tr>\n",
       "      <th>7</th>\n",
       "      <td>1966</td>\n",
       "      <td>89</td>\n",
       "    </tr>\n",
       "    <tr>\n",
       "      <th>6</th>\n",
       "      <td>1962</td>\n",
       "      <td>89</td>\n",
       "    </tr>\n",
       "    <tr>\n",
       "      <th>3</th>\n",
       "      <td>1950</td>\n",
       "      <td>88</td>\n",
       "    </tr>\n",
       "    <tr>\n",
       "      <th>2</th>\n",
       "      <td>1938</td>\n",
       "      <td>84</td>\n",
       "    </tr>\n",
       "    <tr>\n",
       "      <th>1</th>\n",
       "      <td>1934</td>\n",
       "      <td>70</td>\n",
       "    </tr>\n",
       "    <tr>\n",
       "      <th>0</th>\n",
       "      <td>1930</td>\n",
       "      <td>70</td>\n",
       "    </tr>\n",
       "  </tbody>\n",
       "</table>\n",
       "</div>"
      ],
      "text/plain": [
       "    year  total_goals_scored\n",
       "19  2014                 171\n",
       "15  1998                 171\n",
       "20  2018                 169\n",
       "16  2002                 161\n",
       "17  2006                 147\n",
       "11  1982                 146\n",
       "18  2010                 145\n",
       "14  1994                 141\n",
       "4   1954                 140\n",
       "12  1986                 132\n",
       "5   1958                 126\n",
       "13  1990                 115\n",
       "10  1978                 102\n",
       "9   1974                  97\n",
       "8   1970                  95\n",
       "7   1966                  89\n",
       "6   1962                  89\n",
       "3   1950                  88\n",
       "2   1938                  84\n",
       "1   1934                  70\n",
       "0   1930                  70"
      ]
     },
     "execution_count": 154,
     "metadata": {
      "tags": []
     },
     "output_type": "execute_result"
    }
   ],
   "source": [
    "world_cup_year_df[[\"year\",\"total_goals_scored\"]].sort_values(\"total_goals_scored\",ascending=False)"
   ]
  },
  {
   "cell_type": "markdown",
   "metadata": {
    "id": "7dKDlSTrYGL0"
   },
   "source": [
    "World Cup Stats:\n",
    "- Total Number of Participating Countries : 81\n",
    "- Most Matches Played : Germany and Brazil (109)\n",
    "- Most Goals Scored in a Edition : 1998 and 2014 (171)\n"
   ]
  },
  {
   "cell_type": "code",
   "execution_count": 155,
   "metadata": {
    "executionInfo": {
     "elapsed": 5187,
     "status": "ok",
     "timestamp": 1602180275241,
     "user": {
      "displayName": "Shrey Limbani",
      "photoUrl": "https://lh3.googleusercontent.com/a-/AOh14GjzFTWa7-tIu5X1rz-yNPr3-xsawaN4OuOTTP8qjA=s64",
      "userId": "06653236556182914480"
     },
     "user_tz": -330
    },
    "id": "r88AC5fLo9WI"
   },
   "outputs": [],
   "source": [
    "import jovian"
   ]
  },
  {
   "cell_type": "code",
   "execution_count": 156,
   "metadata": {
    "colab": {
     "base_uri": "https://localhost:8080/",
     "height": 51
    },
    "executionInfo": {
     "elapsed": 3014,
     "status": "ok",
     "timestamp": 1602180275246,
     "user": {
      "displayName": "Shrey Limbani",
      "photoUrl": "https://lh3.googleusercontent.com/a-/AOh14GjzFTWa7-tIu5X1rz-yNPr3-xsawaN4OuOTTP8qjA=s64",
      "userId": "06653236556182914480"
     },
     "user_tz": -330
    },
    "id": "xmS-ieJOo9WN",
    "outputId": "6dc28ede-cdc1-44f9-c6dc-1e5f19fd8e46"
   },
   "outputs": [
    {
     "name": "stdout",
     "output_type": "stream",
     "text": [
      "[jovian] Detected Colab notebook...\u001b[0m\n"
     ]
    },
    {
     "name": "stderr",
     "output_type": "stream",
     "text": [
      "\u001b[31m[jovian] Error: Please provide the project argument e.g. jovian.commit(project='my-project')\u001b[0m\n"
     ]
    }
   ],
   "source": [
    "jovian.commit()"
   ]
  },
  {
   "cell_type": "markdown",
   "metadata": {
    "id": "WvUA5BEEo9WS"
   },
   "source": [
    "## Inferences and Conclusion"
   ]
  },
  {
   "cell_type": "markdown",
   "metadata": {
    "id": "ygCYSeFJZIs5"
   },
   "source": [
    "In this project I have performed data analysis on the data of all the international men's football matches from 1870's to 2020. After performing this analysis, I got to learn various information or statistics that I never knew before.\n",
    "I would list them down here:\n",
    " - The first ever international football match was played between England and Scotland on 30th Nov 1872 and the match was won by Scotland.\n",
    "\n",
    " - The Fifa World Cup started from 1930 in Uruguay. During the second world war the world cup did not take place. After the world war the world cup has taken place after every four years.\n",
    "\n",
    " - In the last 10 years, the maximum number of goals have scored in the months of March, June and November.\n",
    "\n",
    " - The average goal scored per match by most countries lies in the range of 0.7 to 1.8.\n",
    "\n",
    " - I also performed a case study on the goals aspect for the Brazilian National Team during the years(2011-2019). These were my observations\n",
    "  - Average Number of goals scored per year : 30.2\n",
    "  - Average Number of goals conceded per year : 9.2\n",
    "  - Min number of goals scored in a year : 20\n",
    "  - Min number of goals conceded in a year : 3\n",
    "  - Max number of goals scored in a year : 49\n",
    "  - Max number of goals conceded in a year : 15"
   ]
  },
  {
   "cell_type": "markdown",
   "metadata": {
    "id": "ZIn_9SD-ZJjY"
   },
   "source": [
    "I would like to conclude that after performing this data analysis:\n",
    "- I got to learn how to do a data analysis on any type dataset. \n",
    "- What are the requirements and how to approach."
   ]
  },
  {
   "cell_type": "code",
   "execution_count": 157,
   "metadata": {
    "executionInfo": {
     "elapsed": 2871,
     "status": "ok",
     "timestamp": 1602181412549,
     "user": {
      "displayName": "Shrey Limbani",
      "photoUrl": "https://lh3.googleusercontent.com/a-/AOh14GjzFTWa7-tIu5X1rz-yNPr3-xsawaN4OuOTTP8qjA=s64",
      "userId": "06653236556182914480"
     },
     "user_tz": -330
    },
    "id": "jikB_B2vo9Wk"
   },
   "outputs": [],
   "source": [
    "import jovian"
   ]
  },
  {
   "cell_type": "code",
   "execution_count": null,
   "metadata": {
    "id": "bmC2kEUvo9Wp"
   },
   "outputs": [],
   "source": [
    "jovian.commit(project = project_name)"
   ]
  },
  {
   "cell_type": "markdown",
   "metadata": {
    "id": "D8rk7yymo9Wu"
   },
   "source": [
    "## References and Future Work\n",
    "\n",
    "TODO"
   ]
  },
  {
   "cell_type": "code",
   "execution_count": null,
   "metadata": {
    "id": "IlO52CMKo9Wv"
   },
   "outputs": [],
   "source": [
    "import jovian"
   ]
  },
  {
   "cell_type": "code",
   "execution_count": null,
   "metadata": {
    "id": "oJK7swdio9W0",
    "outputId": "881e8ada-1164-47e9-8f22-28c776bd91ab"
   },
   "outputs": [
    {
     "data": {
      "application/javascript": [
       "window.require && require([\"base/js/namespace\"],function(Jupyter){Jupyter.notebook.save_checkpoint()})"
      ],
      "text/plain": [
       "<IPython.core.display.Javascript object>"
      ]
     },
     "metadata": {
      "tags": []
     },
     "output_type": "display_data"
    },
    {
     "name": "stdout",
     "output_type": "stream",
     "text": [
      "[jovian] Attempting to save notebook..\u001b[0m\n"
     ]
    }
   ],
   "source": [
    "jovian.commit()"
   ]
  },
  {
   "cell_type": "code",
   "execution_count": null,
   "metadata": {
    "id": "k8eupFH9o9W5"
   },
   "outputs": [],
   "source": []
  }
 ],
 "metadata": {
  "colab": {
   "name": "zerotopandas-course-project.ipynb",
   "provenance": [],
   "toc_visible": true
  },
  "kernelspec": {
   "display_name": "Python 3",
   "language": "python",
   "name": "python3"
  },
  "language_info": {
   "codemirror_mode": {
    "name": "ipython",
    "version": 3
   },
   "file_extension": ".py",
   "mimetype": "text/x-python",
   "name": "python",
   "nbconvert_exporter": "python",
   "pygments_lexer": "ipython3",
   "version": "3.7.3"
  }
 },
 "nbformat": 4,
 "nbformat_minor": 1
}
